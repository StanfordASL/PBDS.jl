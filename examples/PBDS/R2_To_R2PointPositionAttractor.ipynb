{
 "cells": [
  {
   "cell_type": "markdown",
   "metadata": {},
   "source": [
    "## R2 To R2 Attractor, Position from a Point"
   ]
  },
  {
   "cell_type": "code",
   "execution_count": null,
   "metadata": {
    "scrolled": false
   },
   "outputs": [],
   "source": [
    "using PBDS, StaticArrays, LinearAlgebra, BenchmarkTools"
   ]
  },
  {
   "cell_type": "markdown",
   "metadata": {},
   "source": [
    "## Setup"
   ]
  },
  {
   "cell_type": "code",
   "execution_count": null,
   "metadata": {},
   "outputs": [],
   "source": [
    "PBDS.metric_chart(xn, task::Attractor{<:PositionAroundPoint{R2,R2}}, CN::Chart{1,R2}) = default_metric(xn, task, CN)\n",
    "PBDS.potential_chart(xn, task::Attractor{<:PositionAroundPoint{R2,R2}}, CN::Chart{1,R2}) = sum(xn.^2)\n",
    "PBDS.dissipative_forces_chart(xn, vn, task::Attractor{<:PositionAroundPoint{R2,R2}}, CN::Chart{1,R2}) = -3*vn\n",
    "PBDS.weight_metric_chart(xn, vn, task::Attractor{<:PositionAroundPoint{R2,R2}}, CN::Chart{1,R2}) = default_weight_metric(xn, vn, task, CN)"
   ]
  },
  {
   "cell_type": "code",
   "execution_count": null,
   "metadata": {},
   "outputs": [],
   "source": [
    "xm_goal = SA[0., 0.]\n",
    "M, N = R2, R2\n",
    "task = Attractor(PositionAroundPoint{M,N}(xm_goal))\n",
    "CM, CN = Chart{1,M}(), Chart{1,N}()"
   ]
  },
  {
   "cell_type": "markdown",
   "metadata": {},
   "source": [
    "## Point Acceleration"
   ]
  },
  {
   "cell_type": "code",
   "execution_count": null,
   "metadata": {},
   "outputs": [],
   "source": [
    "# Initial state\n",
    "xm = SA[1., 2.]\n",
    "vm = SA[1., 1.]\n",
    "σxddot, = single_task_acceleration(xm, vm, task, CM, CN)"
   ]
  },
  {
   "cell_type": "markdown",
   "metadata": {},
   "source": [
    "## Single Trajectory"
   ]
  },
  {
   "cell_type": "code",
   "execution_count": null,
   "metadata": {
    "scrolled": true
   },
   "outputs": [],
   "source": [
    "Time = 10\n",
    "dt = 0.05\n",
    "\n",
    "robot_coord_rep = ChartRep()\n",
    "traj = propagate_task(xm, vm, task, CM, CN, Time, dt, robot_coord_rep)\n",
    "traj.xm[end]"
   ]
  },
  {
   "cell_type": "markdown",
   "metadata": {},
   "source": [
    "## Multiple Trajectories"
   ]
  },
  {
   "cell_type": "code",
   "execution_count": null,
   "metadata": {},
   "outputs": [],
   "source": [
    "using Makie, Observables, ProgressMeter, VectorizedRoutines"
   ]
  },
  {
   "cell_type": "code",
   "execution_count": null,
   "metadata": {},
   "outputs": [],
   "source": [
    "Time = 5\n",
    "dt = 0.02\n",
    "xlim, Δx = 1., 1.\n",
    "vlim, Δv = 1., 2.\n",
    "\n",
    "xm0 = Array{Any}(undef, 2)\n",
    "vm0 = Array{Any}(undef, 2)\n",
    "\n",
    "xm0[1], xm0[2] = Matlab.meshgrid(-xlim:Δx:xlim, -xlim:Δx:xlim)\n",
    "vm0[1], vm0[2] = Matlab.meshgrid(-vlim:Δv:vlim, -vlim:Δv:vlim)\n",
    "\n",
    "for a in (xm0, vm0), i in 1:2\n",
    "    a[i] = reshape(a[i], length(a[i]))\n",
    "end\n",
    "\n",
    "nx = length(xm0[1])\n",
    "nv = length(vm0[1])\n",
    "ix, iv = Matlab.meshgrid(1:nx, 1:nv)\n",
    "ix = reshape(ix, length(ix))\n",
    "iv = reshape(iv, length(iv))\n",
    "\n",
    "ntraj = nx*nv\n",
    "trajs = Array{Any}(undef, ntraj)\n",
    "xm0 = [xm0[1]'; xm0[2]']\n",
    "vm0 = [vm0[1]'; vm0[2]']\n",
    "p = Progress(ntraj)\n",
    "\n",
    "Threads.@threads for i in 1:ntraj\n",
    "    trajs[i] = propagate_task(SA[xm0[:,ix[i]]...], SA[vm0[:,iv[i]]...], task, CM, CN, Time, dt, robot_coord_rep)\n",
    "    isdefined(Main, :Test) || next!(p)\n",
    "end"
   ]
  },
  {
   "cell_type": "code",
   "execution_count": null,
   "metadata": {},
   "outputs": [],
   "source": [
    "fxx(i) = [trajs[j].xm[i][1] for j = 1:ntraj]\n",
    "fxy(i) = [trajs[j].xm[i][2] for j = 1:ntraj]\n",
    "iobs = Observable(1)\n",
    "\n",
    "ax_size, plot_size = 2, 500\n",
    "limits = FRect((-ax_size, -ax_size), (2*ax_size, 2*ax_size))\n",
    "scene = Scene(resolution = (plot_size, plot_size))\n",
    "Makie.scatter!(scene, lift(i -> fxx(i), iobs), lift(i -> fxy(i), iobs), markersize = ax_size/20, color = :blue, limits = limits)\n",
    "Makie.scatter!(scene, xm_goal', markersize = ax_size/20, color = :darkgreen)\n",
    "for i = 1:ntraj\n",
    "    Makie.lines!(scene, getindex.(trajs[i].xm,1), getindex.(trajs[i].xm,2), color = :purple)\n",
    "end\n",
    "\n",
    "Makie.xlabel!(scene, \"x\")\n",
    "Makie.ylabel!(scene, \"y\")\n",
    "axis = scene[Axis]\n",
    "axis.showaxis = false\n",
    "isdefined(Main, :no_plots) || display(scene)"
   ]
  },
  {
   "cell_type": "code",
   "execution_count": null,
   "metadata": {},
   "outputs": [],
   "source": [
    "function record_scene(scene, filename, iobs, N)\n",
    "    p = Progress(N)\n",
    "    record(scene, filename, 1:N) do i\n",
    "        iobs[] = i\n",
    "        isdefined(Main, :Test) || next!(p)\n",
    "    end\n",
    "    isdefined(Main, :Test) || display(\"text/html\", html_video(filename))\n",
    "end\n",
    "\n",
    "filename = \"R2ToR2Attractor.mp4\"\n",
    "isdefined(Main, :no_plots) || record_scene(scene, filename, iobs, length(trajs[1].xm))"
   ]
  },
  {
   "cell_type": "code",
   "execution_count": null,
   "metadata": {},
   "outputs": [],
   "source": []
  }
 ],
 "metadata": {
  "@webio": {
   "lastCommId": null,
   "lastKernelId": null
  },
  "kernelspec": {
   "display_name": "Julia 1.5.3",
   "language": "julia",
   "name": "julia-1.5"
  },
  "language_info": {
   "file_extension": ".jl",
   "mimetype": "application/julia",
   "name": "julia",
   "version": "1.5.3"
  }
 },
 "nbformat": 4,
 "nbformat_minor": 2
}
