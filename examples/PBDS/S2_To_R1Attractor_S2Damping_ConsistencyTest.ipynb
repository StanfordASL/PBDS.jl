{
 "cells": [
  {
   "cell_type": "markdown",
   "metadata": {},
   "source": [
    "## S2 To R1 Attractor, S2 Damping - Geometric Consistency Test (PBDS)"
   ]
  },
  {
   "cell_type": "code",
   "execution_count": null,
   "metadata": {
    "scrolled": false
   },
   "outputs": [],
   "source": [
    "using PBDS, StaticArrays, LinearAlgebra, BenchmarkTools"
   ]
  },
  {
   "cell_type": "markdown",
   "metadata": {},
   "source": [
    "## Setup"
   ]
  },
  {
   "cell_type": "markdown",
   "metadata": {},
   "source": [
    "### Point Distance Attractor"
   ]
  },
  {
   "cell_type": "code",
   "execution_count": null,
   "metadata": {},
   "outputs": [],
   "source": [
    "PBDS.task_map_emb(::EmbRep, ::EmbRep, xme, task_map::DistanceFromPoint{S2,R1}) =\n",
    "    SA[norm(xme - task_map.position_center)]\n",
    "PBDS.domain_coord_rep(::DistanceFromPoint{S2,R1}) = EmbRep()\n",
    "\n",
    "PBDS.metric_chart(xn, task::Attractor{<:DistanceFromPoint{S2,R1}}, CN::Chart{1,R1}) = \n",
    "    default_metric(xn, task, CN)\n",
    "PBDS.potential_chart(xn, task::Attractor{<:DistanceFromPoint{S2,R1}}, CN::Chart{1,R1}) = xn[1]^2\n",
    "PBDS.dissipative_forces_chart(xn, vn, task::Attractor{<:DistanceFromPoint{S2,R1}}, CN::Chart{1,R1}) =  0*vn\n",
    "PBDS.weight_metric_chart(xn, vn, task::Attractor{<:DistanceFromPoint{S2,R1}}, CN::Chart{1,R1}) = \n",
    "    default_weight_metric(xn, vn, task, CN)"
   ]
  },
  {
   "cell_type": "markdown",
   "metadata": {},
   "source": [
    "### Sphere Damping"
   ]
  },
  {
   "cell_type": "code",
   "execution_count": null,
   "metadata": {},
   "outputs": [],
   "source": [
    "PBDS.default_coord_rep(::Damping{<:Identity{S2,S2}}) = EmbRep()\n",
    "PBDS.metric_emb(xne, task::Damping{<:Identity{S2,S2}}) =\n",
    "    default_metric(xne, task)\n",
    "PBDS.potential_emb(xne, task::Damping{<:Identity{S2,S2}}) = 0.\n",
    "PBDS.dissipative_forces_emb(xne, vne, task::Damping{<:Identity{S2,S2}}) = -4*vne\n",
    "PBDS.weight_metric_emb(xne, vne, task::Damping{<:Identity{S2,S2}}) =\n",
    "    default_weight_metric(xne, vne, task)\n",
    "PBDS.home_task_chart(task::Damping{<:Identity{S2,S2}}) = Chart{SterProjSouth,S2}()"
   ]
  },
  {
   "cell_type": "code",
   "execution_count": null,
   "metadata": {},
   "outputs": [],
   "source": [
    "M = S2\n",
    "tasks, CNs = TaskList(), ChartList()\n",
    "\n",
    "N = R1\n",
    "CN = Chart{1,N}()\n",
    "center = SA[1., -1., -1.]\n",
    "center = center ./ norm(center)\n",
    "push!(tasks, Attractor(DistanceFromPoint{M,N}(center)))\n",
    "push!(CNs, CN)\n",
    "\n",
    "N = S2\n",
    "CN = Chart{SterProjNorth,S2}()\n",
    "push!(tasks, Damping(Identity{M,N,Float64}()))\n",
    "push!(CNs, CN)"
   ]
  },
  {
   "cell_type": "markdown",
   "metadata": {},
   "source": [
    "## Point Acceleration"
   ]
  },
  {
   "cell_type": "code",
   "execution_count": null,
   "metadata": {},
   "outputs": [],
   "source": [
    "# Initial state\n",
    "xme = SA[-1., 1., 1.]\n",
    "xme = xme ./ norm(xme)\n",
    "vme = SA[2., 1., 1.]\n",
    "robot_coord_rep = EmbRep()\n",
    "\n",
    "CM = Chart{SterProjNorth,S2}()\n",
    "PBDS.choose_chart_emb(::EmbRep, pe, ::Chart{<:SterProj,S2}) = Chart{SterProjNorth,S2}()\n",
    "σxddot, = multiple_task_acceleration(xme, vme, tasks, CM, CNs, robot_coord_rep)"
   ]
  },
  {
   "cell_type": "code",
   "execution_count": null,
   "metadata": {},
   "outputs": [],
   "source": [
    "CM = Chart{SterProjSouth,S2}()\n",
    "PBDS.choose_chart_emb(::EmbRep, pe, ::Chart{<:SterProj,S2}) = Chart{SterProjSouth,S2}()\n",
    "σxddot, = multiple_task_acceleration(xme, vme, tasks, CM, CNs, robot_coord_rep)"
   ]
  },
  {
   "cell_type": "markdown",
   "metadata": {},
   "source": [
    "## Single Trajectory"
   ]
  },
  {
   "cell_type": "code",
   "execution_count": null,
   "metadata": {},
   "outputs": [],
   "source": [
    "using Plots, Makie, Observables, ProgressMeter"
   ]
  },
  {
   "cell_type": "code",
   "execution_count": null,
   "metadata": {},
   "outputs": [],
   "source": [
    "Time = 15\n",
    "dt = 0.01\n",
    "\n",
    "PBDS.choose_chart_emb(::EmbRep, pe, ::Chart{<:SterProj,S2}) = Chart{SterProjNorth,S2}()\n",
    "traj_north = propagate_tasks(xme, vme, tasks, CM, CNs, Time, dt, robot_coord_rep, log_tasks = true)\n",
    "\n",
    "PBDS.choose_chart_emb(::EmbRep, pe, ::Chart{<:SterProj,S2}) = Chart{SterProjSouth,S2}()\n",
    "traj_south = propagate_tasks(xme, vme, tasks, CM, CNs, Time, dt, robot_coord_rep, log_tasks = true)\n",
    "\n",
    "PBDS.choose_chart_emb(::EmbRep, pe, ::Chart{<:SterProj,S2}) =\n",
    "    (pe[3] < 0)[1] ? Chart{SterProjSouth,S2}() : Chart{SterProjNorth,S2}()\n",
    "traj_switching = propagate_tasks(xme, vme, tasks, CM, CNs, Time, dt, robot_coord_rep, log_tasks = true)\n",
    "traj_switching.xm[end]"
   ]
  },
  {
   "cell_type": "code",
   "execution_count": null,
   "metadata": {},
   "outputs": [],
   "source": [
    "Nplot = length(traj_switching.xm)\n",
    "Plots.plot(getindex.(traj_switching.xm,1)[1:Nplot])\n",
    "Plots.plot!(getindex.(traj_switching.xm,2)[1:Nplot])\n",
    "Plots.plot!(getindex.(traj_switching.xm,3)[1:Nplot])"
   ]
  },
  {
   "cell_type": "code",
   "execution_count": null,
   "metadata": {},
   "outputs": [],
   "source": [
    "ax_size, plot_size = 1, 800\n",
    "limits = FRect3D((-ax_size, -ax_size, -ax_size), (2*ax_size, 2*ax_size, 2*ax_size))\n",
    "scene = Scene(resolution = (plot_size, plot_size))\n",
    "mesh!(Sphere(Point3(zeros(3)), 1.), color = RGBA(1.,1.,1.,0.4), transparency = true)\n",
    "Makie.scatter!(scene, [xme[1]], [xme[2]], [xme[3]], markersize = ax_size/20, color = :blue, limits = limits)\n",
    "δ = 0.99\n",
    "Makie.scatter!(scene, [center[1]*δ], [center[2]*δ], [center[3]*δ], markersize = ax_size/20, color = :green, limits = limits)\n",
    "\n",
    "linewidth = 1.5\n",
    "Makie.lines!(scene, getindex.(traj_switching.xm,1), getindex.(traj_switching.xm,2), getindex.(traj_switching.xm,3), color = :purple, linewidth = linewidth)\n",
    "Makie.lines!(scene, getindex.(traj_south.xm,1), getindex.(traj_south.xm,2), getindex.(traj_south.xm,3), color = :red, linewidth = linewidth)\n",
    "Makie.lines!(scene, getindex.(traj_north.xm,1), getindex.(traj_north.xm,2), getindex.(traj_north.xm,3), color = :blue, linewidth = linewidth)\n",
    "\n",
    "axis = scene[Axis]\n",
    "axis.showaxis = false\n",
    "rotate_cam!(scene, 0.4, 0., 0.)\n",
    "display(scene)"
   ]
  },
  {
   "cell_type": "markdown",
   "metadata": {},
   "source": [
    "## Animation"
   ]
  },
  {
   "cell_type": "code",
   "execution_count": null,
   "metadata": {},
   "outputs": [],
   "source": [
    "iobs = Observable(1)\n",
    "AbstractPlotting.__init__()\n",
    "Makie.AbstractPlotting.inline!(false)\n",
    "ax_size, plot_size = 1, 800\n",
    "limits = FRect3D((-ax_size, -ax_size, -ax_size), (2*ax_size, 2*ax_size, 2*ax_size))\n",
    "scene = Scene(resolution = (plot_size, plot_size))\n",
    "mesh!(Sphere(Point3f0(zeros(3)), 1.), color = RGBA(1.,1.,1.,0.4), transparency = true)\n",
    "δ = 1\n",
    "Makie.scatter!(scene, [center[1]*δ], [center[2]*δ], [center[3]*δ], markersize = ax_size/20, color = :green, limits = limits)\n",
    "\n",
    "accel_rate = 2\n",
    "# Makie.scatter!(scene, lift(i -> [traj_switching.xm[(i-1)*accel_rate+1][1]], iobs), lift(i -> [traj_switching.xm[(i-1)*accel_rate+1][2]], iobs), lift(i -> [traj_switching.xm[(i-1)*accel_rate+1][3]], iobs), markersize = ax_size/16, color = :purple, limits = limits)\n",
    "# Makie.scatter!(scene, lift(i -> [traj_south.xm[(i-1)*accel_rate+1][1]], iobs), lift(i -> [traj_south.xm[(i-1)*accel_rate+1][2]], iobs), lift(i -> [traj_south.xm[(i-1)*accel_rate+1][3]], iobs), markersize = ax_size/18, color = :red, limits = limits)\n",
    "Makie.scatter!(scene, lift(i -> [traj_north.xm[(i-1)*accel_rate+1][1]], iobs), lift(i -> [traj_north.xm[(i-1)*accel_rate+1][2]], iobs), lift(i -> [traj_north.xm[(i-1)*accel_rate+1][3]], iobs), markersize = ax_size/20, color = :blue, limits = limits)\n",
    "\n",
    "linewidth = 2.5\n",
    "Makie.lines!(scene, getindex.(traj_switching.xm,1), getindex.(traj_switching.xm,2), getindex.(traj_switching.xm,3), color = :purple, linewidth = linewidth)\n",
    "Makie.lines!(scene, getindex.(traj_south.xm,1), getindex.(traj_south.xm,2), getindex.(traj_south.xm,3), color = :red, linewidth = linewidth)\n",
    "Makie.lines!(scene, getindex.(traj_north.xm,1), getindex.(traj_north.xm,2), getindex.(traj_north.xm,3), color = :blue, linewidth = linewidth)\n",
    "\n",
    "Makie.xlabel!(scene, \"x\")\n",
    "Makie.ylabel!(scene, \"y\")\n",
    "axis = scene[Axis]\n",
    "axis.showaxis = false\n",
    "rotate_cam!(scene, 0.4, 0., 0.)\n",
    "display(scene)"
   ]
  },
  {
   "cell_type": "code",
   "execution_count": null,
   "metadata": {},
   "outputs": [],
   "source": [
    "function record_scene(scene, filename, iobs, N, framerate=60)\n",
    "    p = Progress(N)\n",
    "    record(scene, filename, 1:N) do i\n",
    "        iobs[] = i\n",
    "        rotate_cam!(scene, 0.01, 0., 0.)\n",
    "        isdefined(Main, :Test) || next!(p)\n",
    "    end\n",
    "    isdefined(Main, :Test) || display(\"text/html\", html_video(filename))\n",
    "end\n",
    "\n",
    "filename = \"S2_To_R1Attractor_S2Damping_ConsistencyTest.mp4\"\n",
    "record_scene(scene, filename, iobs, Int(floor(length(traj_north.xm)/accel_rate)))"
   ]
  },
  {
   "cell_type": "code",
   "execution_count": null,
   "metadata": {},
   "outputs": [],
   "source": []
  }
 ],
 "metadata": {
  "@webio": {
   "lastCommId": null,
   "lastKernelId": null
  },
  "kernelspec": {
   "display_name": "Julia 1.5.3",
   "language": "julia",
   "name": "julia-1.5"
  },
  "language_info": {
   "file_extension": ".jl",
   "mimetype": "application/julia",
   "name": "julia",
   "version": "1.5.3"
  }
 },
 "nbformat": 4,
 "nbformat_minor": 2
}
