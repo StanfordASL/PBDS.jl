{
 "cells": [
  {
   "cell_type": "markdown",
   "metadata": {},
   "source": [
    "## R7 Arm Mug Grasping on Table w/ Updating Mug Position (Zero-Order PBDS)"
   ]
  },
  {
   "cell_type": "code",
   "execution_count": 1,
   "metadata": {
    "scrolled": true
   },
   "outputs": [
    {
     "data": {
      "text/html": [
       "<script>\n",
       "// Immediately-invoked-function-expression to avoid global variables.\n",
       "(function() {\n",
       "    var warning_div = document.getElementById(\"webio-warning-17923921800408697935\");\n",
       "    var hide = function () {\n",
       "        var script = document.getElementById(\"webio-setup-18232879251434313589\");\n",
       "        var parent = script && script.parentElement;\n",
       "        var grandparent = parent && parent.parentElement;\n",
       "        if (grandparent) {\n",
       "            grandparent.style.display = \"none\";\n",
       "        }\n",
       "        warning_div.style.display = \"none\";\n",
       "    };\n",
       "    if (typeof Jupyter !== \"undefined\") {\n",
       "        console.log(\"WebIO detected Jupyter notebook environment.\");\n",
       "        // Jupyter notebook.\n",
       "        var extensions = (\n",
       "            Jupyter\n",
       "            && Jupyter.notebook.config.data\n",
       "            && Jupyter.notebook.config.data.load_extensions\n",
       "        );\n",
       "        if (extensions && extensions[\"webio-jupyter-notebook\"]) {\n",
       "            // Extension already loaded.\n",
       "            console.log(\"Jupyter WebIO nbextension detected; not loading ad-hoc.\");\n",
       "            hide();\n",
       "            return;\n",
       "        }\n",
       "    } else if (window.location.pathname.includes(\"/lab\")) {\n",
       "        // Guessing JupyterLa\n",
       "        console.log(\"Jupyter Lab detected; make sure the @webio/jupyter-lab-provider labextension is installed.\");\n",
       "        hide();\n",
       "        return;\n",
       "    }\n",
       "})();\n",
       "\n",
       "</script>\n",
       "<p\n",
       "    id=\"webio-warning-17923921800408697935\"\n",
       "    class=\"output_text output_stderr\"\n",
       "    style=\"padding: 1em; font-weight: bold;\"\n",
       ">\n",
       "    Unable to load WebIO. Please make sure WebIO works for your Jupyter client.\n",
       "    For troubleshooting, please see <a href=\"https://juliagizmos.github.io/WebIO.jl/latest/providers/ijulia/\">\n",
       "    the WebIO/IJulia documentation</a>.\n",
       "    <!-- TODO: link to installation docs. -->\n",
       "</p>\n"
      ],
      "text/plain": [
       "HTML{String}(\"<script>\\n// Immediately-invoked-function-expression to avoid global variables.\\n(function() {\\n    var warning_div = document.getElementById(\\\"webio-warning-17923921800408697935\\\");\\n    var hide = function () {\\n        var script = document.getElementById(\\\"webio-setup-18232879251434313589\\\");\\n        var parent = script && script.parentElement;\\n        var grandparent = parent && parent.parentElement;\\n        if (grandparent) {\\n            grandparent.style.display = \\\"none\\\";\\n        }\\n        warning_div.style.display = \\\"none\\\";\\n    };\\n    if (typeof Jupyter !== \\\"undefined\\\") {\\n        console.log(\\\"WebIO detected Jupyter notebook environment.\\\");\\n        // Jupyter notebook.\\n        var extensions = (\\n            Jupyter\\n            && Jupyter.notebook.config.data\\n            && Jupyter.notebook.config.data.load_extensions\\n        );\\n        if (extensions && extensions[\\\"webio-jupyter-notebook\\\"]) {\\n            // Extension already loaded.\\n            console.log(\\\"Jupyter WebIO nbextension detected; not loading ad-hoc.\\\");\\n            hide();\\n            return;\\n        }\\n    } else if (window.location.pathname.includes(\\\"/lab\\\")) {\\n        // Guessing JupyterLa\\n        console.log(\\\"Jupyter Lab detected; make sure the @webio/jupyter-lab-provider labextension is installed.\\\");\\n        hide();\\n        return;\\n    }\\n})();\\n\\n</script>\\n<p\\n    id=\\\"webio-warning-17923921800408697935\\\"\\n    class=\\\"output_text output_stderr\\\"\\n    style=\\\"padding: 1em; font-weight: bold;\\\"\\n>\\n    Unable to load WebIO. Please make sure WebIO works for your Jupyter client.\\n    For troubleshooting, please see <a href=\\\"https://juliagizmos.github.io/WebIO.jl/latest/providers/ijulia/\\\">\\n    the WebIO/IJulia documentation</a>.\\n    <!-- TODO: link to installation docs. -->\\n</p>\\n\")"
      ]
     },
     "metadata": {},
     "output_type": "display_data"
    },
    {
     "data": {
      "text/plain": [
       "GeometryBasics.Vec"
      ]
     },
     "execution_count": 1,
     "metadata": {},
     "output_type": "execute_result"
    }
   ],
   "source": [
    "using PBDS, StaticArrays, LinearAlgebra, GeometryBasics, Rotations, StaticNumbers, CoordinateTransformations, GeometryTypes, ForwardDiff, ComputedFieldTypes\n",
    "import ColorTypes: RGBA\n",
    "using RigidBodyDynamics, MeshCatMechanisms, MeshCat\n",
    "using BenchmarkTools\n",
    "\n",
    "GBVec = GeometryBasics.Vec"
   ]
  },
  {
   "cell_type": "markdown",
   "metadata": {},
   "source": [
    "## Setup"
   ]
  },
  {
   "cell_type": "markdown",
   "metadata": {},
   "source": [
    "## Damping"
   ]
  },
  {
   "cell_type": "markdown",
   "metadata": {},
   "source": [
    "### Baseline Joint Damping"
   ]
  },
  {
   "cell_type": "code",
   "execution_count": 2,
   "metadata": {},
   "outputs": [],
   "source": [
    "function PBDS.dissipative_forces_chart(xn, vn, task::Damping{<:Identity{R7,R7,S}}, CN::Chart{1,R7}) where S\n",
    "    -1*SA[25, 25, 18, 18, 16, 14, 18].*vn\n",
    "end\n",
    "\n",
    "PBDS.metric_chart(xn, task::Damping{<:Identity{R7,R7,S}}, CN::Chart{1,R7}) where S = PBDS.default_metric(xn, task, CN)\n",
    "PBDS.potential_chart(xn, task::Damping{<:Identity{R7,R7,S}}, CN::Chart{1,R7}) where S = 0.\n",
    "PBDS.weight_metric_chart(xn, vn, task::Damping{<:Identity{R7,R7,S}}, CN::Chart{1,R7}) where S = PBDS.default_weight_metric(xn, vn, task, CN)"
   ]
  },
  {
   "cell_type": "markdown",
   "metadata": {},
   "source": [
    "### End Effector Position Damping"
   ]
  },
  {
   "cell_type": "code",
   "execution_count": 3,
   "metadata": {},
   "outputs": [],
   "source": [
    "function PBDS.dissipative_forces_chart(xn, vn, task::Damping{<:Identity{R3,R3,S}}, CN::Chart{1,R3}) where S\n",
    "    -40*vn\n",
    "end\n",
    "\n",
    "PBDS.metric_chart(xn, task::Damping{<:Identity{R3,R3,S}}, CN::Chart{1,R3}) where S = PBDS.default_metric(xn, task, CN)\n",
    "PBDS.potential_chart(xn, task::Damping{<:Identity{R3,R3,S}}, CN::Chart{1,R3}) where S = 0.\n",
    "PBDS.weight_metric_chart(xn, vn, task::Damping{<:Identity{R3,R3,S}}, CN::Chart{1,R3}) where S = PBDS.default_weight_metric(xn, vn, task, CN)"
   ]
  },
  {
   "cell_type": "markdown",
   "metadata": {},
   "source": [
    "### S2 End Effector Damping About Mug"
   ]
  },
  {
   "cell_type": "code",
   "execution_count": 4,
   "metadata": {},
   "outputs": [],
   "source": [
    "PBDS.default_coord_rep(::Damping{<:AngularPositionAroundPoint{R3,S2,S}}) where S = EmbRep()\n",
    "PBDS.metric_emb(xne, task::Damping{<:AngularPositionAroundPoint{R3,S2,S}}) where S =\n",
    "    default_metric(xne, task)\n",
    "PBDS.potential_emb(xne, task::Damping{<:AngularPositionAroundPoint{R3,S2,S}}) where S = 0.\n",
    "function PBDS.dissipative_forces_emb(xne, vne, task::Damping{<:AngularPositionAroundPoint{R3,S2,S}}) where S\n",
    "    -1*vne\n",
    "end\n",
    "PBDS.weight_metric_emb(xne, vne, task::Damping{<:AngularPositionAroundPoint{R3,S2,S}}) where S = \n",
    "    default_weight_metric(xne, vne, task)\n",
    "\n",
    "PBDS.home_task_chart(task::Damping{<:AngularPositionAroundPoint{R3,S2,S}}) where S = Chart{SterProjSouth,S2}()"
   ]
  },
  {
   "cell_type": "markdown",
   "metadata": {},
   "source": [
    "## Constraints"
   ]
  },
  {
   "cell_type": "markdown",
   "metadata": {},
   "source": [
    "### Joint Limit Task"
   ]
  },
  {
   "cell_type": "code",
   "execution_count": 5,
   "metadata": {},
   "outputs": [],
   "source": [
    "struct JointLimit{F,S} <: PBDS.Task{F}\n",
    "    task_map::F\n",
    "    hi::S\n",
    "    lo::S\n",
    "end\n",
    "function PBDS.metric_chart(xn, task::JointLimit{<:Coordinate{R7,R1,S},S}, CN::Chart{1,R1}) where S\n",
    "    ψx_hi = exp(1.e1 / (task.hi-xn[1])^2)\n",
    "    ψx_lo = exp(1.e1 / (xn[1]-task.lo)^2)\n",
    "    G = SMatrix{1,1,eltype(xn)}([ψx_hi + ψx_lo])\n",
    "end\n",
    "\n",
    "function PBDS.weight_metric_chart(xn, vn, task::JointLimit{<:Coordinate{R7,R1,S},S}, CN::Chart{1,R1}) where S\n",
    "    offset_distance = π/4\n",
    "    λ = ((task.hi - xn[1] < offset_distance) && (vn[1] > 0.)) || ((xn[1] - task.lo < offset_distance) && (vn[1] < 0.)) ? 1. : 0.\n",
    "    W = SMatrix{1,1,eltype(xn)}(I)*λ\n",
    "end\n",
    "\n",
    "PBDS.potential_chart(xn, task::JointLimit{<:Coordinate{R7,R1,S},S}, CN::Chart{1,R1}) where S = 0.\n",
    "PBDS.dissipative_forces_chart(xn, vn, task::JointLimit{<:Coordinate{R7,R1,S},S}, CN::Chart{1,R1}) where S = 0*vn"
   ]
  },
  {
   "cell_type": "markdown",
   "metadata": {},
   "source": [
    "### Sphere-Sphere Self-Collision Avoidance"
   ]
  },
  {
   "cell_type": "code",
   "execution_count": 6,
   "metadata": {},
   "outputs": [],
   "source": [
    "@ext_standard_task_type SelfAvoidance\n",
    "\n",
    "function PBDS.metric_chart(xn, task::SelfAvoidance{<:LinkSpherePairDistance{R7,R1,S}}, CN::Chart{1,R1}) where S\n",
    "    ψx = exp(1.e0 / xn[1]^2)\n",
    "    G = SMatrix{1,1,eltype(xn)}([ψx])\n",
    "end\n",
    "\n",
    "function PBDS.active_weight_position_chart(xn, task::SelfAvoidance{<:LinkSpherePairDistance{R7,R1,S}}, CN::Chart{1,R1}) where S\n",
    "    offset_distance = 0.1\n",
    "    xn[1] < offset_distance\n",
    "end\n",
    "\n",
    "function PBDS.weight_metric_chart(xn, vn, task::SelfAvoidance{<:LinkSpherePairDistance{R7,R1,S}}, CN::Chart{1,R1}) where S\n",
    "    λ = (PBDS.active_weight_position_chart(xn, task, CN) && vn[1] < 0.) ? 1. : 0.\n",
    "    W = SMatrix{1,1,eltype(xn)}(I)*λ\n",
    "end\n",
    "\n",
    "PBDS.potential_chart(xn, task::SelfAvoidance{<:LinkSpherePairDistance{R7,R1,S}}, CN::Chart{1,R1}) where S = 0.\n",
    "function PBDS.dissipative_forces_chart(xn, vn, task::SelfAvoidance{<:LinkSpherePairDistance{R7,R1,S}}, CN::Chart{1,R1}) where S\n",
    "    -0.0*vn\n",
    "end"
   ]
  },
  {
   "cell_type": "markdown",
   "metadata": {},
   "source": [
    "### Cup Avoidance"
   ]
  },
  {
   "cell_type": "code",
   "execution_count": 7,
   "metadata": {},
   "outputs": [],
   "source": [
    "function PBDS.metric_chart(xn, task::CollisionAvoidance{<:DistanceSphereToCupDynamic{R3,R1,S}}, CN::Chart{1,R1}) where S\n",
    "    ψx = exp(1.e-2 / xn[1]^2)\n",
    "    G = SMatrix{1,1,eltype(xn)}([1. + ψx])\n",
    "end\n",
    "\n",
    "function PBDS.active_weight_position_chart(xn, task::CollisionAvoidance{<:DistanceSphereToCupDynamic{R3,R1,S}}, CN::Chart{1,R1}) where S\n",
    "    offset_distance = 0.1\n",
    "    xn[1] < offset_distance\n",
    "end\n",
    "\n",
    "function PBDS.weight_metric_chart(xn, vn, task::CollisionAvoidance{<:DistanceSphereToCupDynamic{R3,R1,S}}, CN::Chart{1,R1}) where S\n",
    "    λ = (PBDS.active_weight_position_chart(xn, task, CN) && vn[1] < 0.) ? 1. : 0.\n",
    "    W = SMatrix{1,1,eltype(xn)}(I)*λ\n",
    "end\n",
    "\n",
    "PBDS.potential_chart(xn, task::CollisionAvoidance{<:DistanceSphereToCupDynamic{R3,R1,S}}, CN::Chart{1,R1}) where S = 0.\n",
    "PBDS.dissipative_forces_chart(xn, vn, task::CollisionAvoidance{<:DistanceSphereToCupDynamic{R3,R1,S}}, CN::Chart{1,R1}) where S = 0*vn"
   ]
  },
  {
   "cell_type": "markdown",
   "metadata": {},
   "source": [
    "### Box Avoidance"
   ]
  },
  {
   "cell_type": "code",
   "execution_count": 8,
   "metadata": {},
   "outputs": [],
   "source": [
    "function PBDS.metric_chart(xn, task::CollisionAvoidance{<:DistanceSphereToBoxDynamic{R3,R1,S}}, CN::Chart{1,R1}) where S\n",
    "    ψx = exp(1.e-3 / xn[1]^2)\n",
    "    G = SMatrix{1,1,eltype(xn)}([1. + ψx])\n",
    "end\n",
    "\n",
    "function PBDS.active_weight_position_chart(xn, task::CollisionAvoidance{<:DistanceSphereToBoxDynamic{R3,R1,S}}, CN::Chart{1,R1}) where S\n",
    "    offset_distance = 0.4\n",
    "    xn[1] < offset_distance\n",
    "end\n",
    "\n",
    "function PBDS.weight_metric_chart(xn, vn, task::CollisionAvoidance{<:DistanceSphereToBoxDynamic{R3,R1,S}}, CN::Chart{1,R1}) where S\n",
    "    λ = (PBDS.active_weight_position_chart(xn, task, CN) && vn[1] < 0.) ? 1. : 0.\n",
    "    W = SMatrix{1,1,eltype(xn)}(I)*λ\n",
    "end\n",
    "\n",
    "PBDS.potential_chart(xn, task::CollisionAvoidance{<:DistanceSphereToBoxDynamic{R3,R1,S}}, CN::Chart{1,R1}) where S = 0.\n",
    "PBDS.dissipative_forces_chart(xn, vn, task::CollisionAvoidance{<:DistanceSphereToBoxDynamic{R3,R1,S}}, CN::Chart{1,R1}) where S = 0*vn"
   ]
  },
  {
   "cell_type": "markdown",
   "metadata": {},
   "source": [
    "## Attractors"
   ]
  },
  {
   "cell_type": "markdown",
   "metadata": {},
   "source": [
    "### Toggled Distance to Cylinder Above Cup"
   ]
  },
  {
   "cell_type": "code",
   "execution_count": 9,
   "metadata": {},
   "outputs": [],
   "source": [
    "struct ToggledDistanceToCylinderAboveCupDynamic{R3,R2,S} <: PBDS.TaskMap{R3,R2,S}\n",
    "    cup_rim_center::Vector{SVector{3,S}}\n",
    "    axis::Vector{SVector{3,S}}\n",
    "    radius::S\n",
    "    cyl_height::S\n",
    "    gap::S\n",
    "    cup_velocity::Vector{S}\n",
    "    scenario_state::Vector{Int}\n",
    "end\n",
    "function ToggledDistanceToCylinderAboveCupDynamic{R3,R2}(crc::Vector{SVector{3,S}}, a::Vector{SVector{3,S}}, \n",
    "        r::S, ch::S, g::S, cv::Vector{S}, ss) where {R3,R2,S}\n",
    "    ToggledDistanceToCylinderAboveCupDynamic{R3,R2,S}(crc, [a[1]./norm(a[1])], r, ch, g, cv, ss)\n",
    "end\n",
    "\n",
    "function PBDS.task_map_emb(::EmbRep, ::EmbRep, xme, task_map::ToggledDistanceToCylinderAboveCupDynamic{R3,R2})\n",
    "    cup_rim_center, axis = task_map.cup_rim_center[1], task_map.axis[1]\n",
    "    radius, cyl_height, gap = task_map.radius, task_map.cyl_height, task_map.gap\n",
    "    \n",
    "    α = 1.e-20                                  # Smoothing factor\n",
    "    p_world = xme - cup_rim_center              # Position from origin in world frame\n",
    "    y_dist_cyl = dot(axis, p_world)             # Axial distance from origin\n",
    "    y_world = y_dist_cyl*axis                   # Axial position in world frame\n",
    "    x_world = p_world - y_world                 # Transverse position in world frame\n",
    "    x_dist_cyl = smooth_norm(x_world, α)        # Transverse distance from origin\n",
    "    p_cyl = SA[x_dist_cyl, y_dist_cyl]\n",
    "\n",
    "    # Switched to solid cylinder attractor\n",
    "    p_cup_corner = SA[radius, 0.]\n",
    "    p_cyl_corner1 = SA[radius, 100.]\n",
    "    p_cyl_corner2 = SA[radius, gap+cyl_height]\n",
    "    da = line_segment_distance(p_cyl, p_cup_corner, p_cyl_corner1) # Attractor\n",
    "    dt = aligned_box_distance(p_cyl, p_cup_corner, p_cyl_corner2) # Toggle\n",
    "    \n",
    "    SA[da, dt]\n",
    "end"
   ]
  },
  {
   "cell_type": "code",
   "execution_count": 10,
   "metadata": {},
   "outputs": [],
   "source": [
    "function PBDS.potential_chart(xn, task::Attractor{<:ToggledDistanceToCylinderAboveCupDynamic{R3,R2,S}}, CN1::Chart{1,R2}) where S\n",
    "    α = 1.e-3\n",
    "    50*sqrt(xn[1]^2 + α)\n",
    "end\n",
    "\n",
    "PBDS.dissipative_forces_chart(xn, vn, task::Attractor{<:ToggledDistanceToCylinderAboveCupDynamic{R3,R2,S}}, CN::Chart{1,R2}) where S  = 0*vn\n",
    "\n",
    "PBDS.metric_chart(xn, task::Attractor{<:ToggledDistanceToCylinderAboveCupDynamic{R3,R2,S}}, CN::Chart{1,R2}) where S = PBDS.default_metric(xn, task, CN)\n",
    "\n",
    "function PBDS.weight_metric_chart(xn, vn, task::Attractor{<:ToggledDistanceToCylinderAboveCupDynamic{R3,R2,S}}, CN::Chart{1,R2}) where S\n",
    "    n = dim(R2)\n",
    "    x_threshold = 0.02 # Threshold at which to toggle / untoggle state\n",
    "    if xn[2] > x_threshold\n",
    "        task.task_map.scenario_state[1] = 1\n",
    "    elseif task.task_map.cup_velocity[1] < 0.02\n",
    "        task.task_map.scenario_state[1] = 2\n",
    "    end\n",
    "    \n",
    "    w = task.task_map.scenario_state[1] == 2 ? 1. : 0.\n",
    "    W = SMatrix{n,n,eltype(xn)}(I)*w\n",
    "end"
   ]
  },
  {
   "cell_type": "markdown",
   "metadata": {},
   "source": [
    "### Toggled Attractor - Distance To Gap Cylinder Above Cup (State-toggled)"
   ]
  },
  {
   "cell_type": "code",
   "execution_count": 11,
   "metadata": {},
   "outputs": [],
   "source": [
    "struct ToggledDistanceToGapCylinderAboveCupDynamic{R3,R2,S} <: PBDS.TaskMap{R3,R2,S}\n",
    "    cup_rim_center::Vector{SVector{3,S}}\n",
    "    axis::Vector{SVector{3,S}}\n",
    "    radius::S\n",
    "    cyl_height::S\n",
    "    gap::S\n",
    "    cup_velocity::Vector{S}\n",
    "    scenario_state::Vector{Int}\n",
    "end\n",
    "function ToggledDistanceToGapCylinderAboveCupDynamic{R3,R2}(crc::Vector{SVector{3,S}}, a::Vector{SVector{3,S}}, r::S,\n",
    "        ch::S, g::S, cv::Vector{S}, ss) where {R3,R2,S}\n",
    "    ToggledDistanceToGapCylinderAboveCupDynamic{R3,R2,S}(crc, [a[1]./norm(a[1])], r, ch, g, cv, ss)\n",
    "end\n",
    "\n",
    "function PBDS.task_map_emb(::EmbRep, ::EmbRep, xme, task_map::ToggledDistanceToGapCylinderAboveCupDynamic{R3,R2})\n",
    "    cup_rim_center, axis = task_map.cup_rim_center[1], task_map.axis[1]\n",
    "    radius, cyl_height, gap = task_map.radius, task_map.cyl_height, task_map.gap\n",
    "    \n",
    "    α = 1.e-20                                  # Smoothing factor\n",
    "    p_world = xme - cup_rim_center              # Position from origin in world frame\n",
    "    y_dist_cyl = dot(axis, p_world)             # Axial distance from origin\n",
    "    y_world = y_dist_cyl*axis                   # Axial position in world frame\n",
    "    x_world = p_world - y_world                 # Transverse position in world frame\n",
    "    x_dist_cyl = smooth_norm(x_world, α)        # Transverse distance from origin\n",
    "    p_cyl = SA[x_dist_cyl, y_dist_cyl]\n",
    "\n",
    "    # Solid cylinder attractor\n",
    "    p_cup_corner = SA[radius, 0.]\n",
    "    p_cyl_corner1 = SA[radius, gap]\n",
    "    p_cyl_corner2 = SA[radius, gap + cyl_height]\n",
    "    da = aligned_box_distance(p_cyl, p_cyl_corner1, p_cyl_corner2) # Attractor \n",
    "    dt = aligned_box_distance(p_cyl, p_cup_corner, p_cyl_corner2) # Toggle\n",
    "    \n",
    "    SA[da, dt]\n",
    "end"
   ]
  },
  {
   "cell_type": "code",
   "execution_count": 12,
   "metadata": {},
   "outputs": [],
   "source": [
    "function PBDS.potential_chart(xn, task::Attractor{<:ToggledDistanceToGapCylinderAboveCupDynamic{R3,R2,S}}, CN1::Chart{1,R2}) where S\n",
    "    α = 1.e-3\n",
    "    30*sqrt(xn[1]^2 + α)\n",
    "end\n",
    "\n",
    "PBDS.dissipative_forces_chart(xn, vn, task::Attractor{<:ToggledDistanceToGapCylinderAboveCupDynamic{R3,R2,S}}, CN::Chart{1,R2}) where S  = 0*vn\n",
    "\n",
    "PBDS.metric_chart(xn, task::Attractor{<:ToggledDistanceToGapCylinderAboveCupDynamic{R3,R2,S}}, CN::Chart{1,R2}) where S = PBDS.default_metric(xn, task, CN)\n",
    "\n",
    "function PBDS.weight_metric_chart(xn, vn, task::Attractor{<:ToggledDistanceToGapCylinderAboveCupDynamic{R3,R2,S}}, CN::Chart{1,R2}) where S\n",
    "    n = dim(R2)\n",
    "    x_threshold = 0.02 # Threshold at which to toggle / untoggle state\n",
    "    if xn[2] > x_threshold\n",
    "        task.task_map.scenario_state[1] = 1\n",
    "    elseif task.task_map.cup_velocity[1] < 0.02\n",
    "        task.task_map.scenario_state[1] = 2\n",
    "    end\n",
    "    \n",
    "    w = task.task_map.scenario_state[1] == 1 ? 1. : 0.\n",
    "    W = SMatrix{n,n,eltype(xn)}(I)*w\n",
    "end"
   ]
  },
  {
   "cell_type": "markdown",
   "metadata": {},
   "source": [
    "### Toggled Attractor - Distance To Cup Rim"
   ]
  },
  {
   "cell_type": "code",
   "execution_count": 13,
   "metadata": {},
   "outputs": [],
   "source": [
    "struct ToggledDistanceToCupRimDynamic{R3,R2,S} <: PBDS.TaskMap{R3,R2,S}\n",
    "    cup_rim_center::Vector{SVector{3,S}}\n",
    "    axis::Vector{SVector{3,S}}\n",
    "    cyl_radius::S\n",
    "    height::S\n",
    "    gap::S\n",
    "    cup_velocity::Vector{S}\n",
    "    scenario_state::Vector{Int}\n",
    "end\n",
    "function ToggledDistanceToCupRimDynamic{R3,R2}(cb::Vector{SVector{3,S}}, a::Vector{SVector{3,S}}, cr::S,\n",
    "        h::S, g::S, cv::Vector{S}, ss) where {R3,R2,S}\n",
    "    ToggledDistanceToCupRimDynamic{R3,R2,S}(cb, [a[1]./norm(a[1])], cr, h, g, cv, ss)\n",
    "end\n",
    "\n",
    "function PBDS.task_map_emb(::EmbRep, ::EmbRep, xme, task_map::ToggledDistanceToCupRimDynamic{R3,R2})\n",
    "    cup_rim_center, axis = task_map.cup_rim_center[1], task_map.axis[1]\n",
    "    cyl_radius, height, gap = task_map.cyl_radius, task_map.height, task_map.gap\n",
    "\n",
    "    α = 1.e-20                                  # Smoothing factor\n",
    "    p_world = xme - cup_rim_center              # Position from origin in world frame\n",
    "    y_dist_cyl = dot(axis, p_world)             # Axial distance from origin\n",
    "    y_world = y_dist_cyl*axis                   # Axial position in world frame\n",
    "    x_world = p_world - y_world                 # Transverse position in world frame\n",
    "    x_dist_cyl = smooth_norm(x_world, α)        # Transverse distance from origin\n",
    "    p_cyl = SA[x_dist_cyl, y_dist_cyl]\n",
    "\n",
    "    p_cup_corner = SA[cyl_radius, 0.]\n",
    "    p_cyl_corner1 = SA[cyl_radius, gap]\n",
    "    p_cyl_corner2 = SA[cyl_radius, gap + height]\n",
    "    \n",
    "    da = norm(p_cyl - p_cup_corner) # Attractor\n",
    "    dt = aligned_box_distance(p_cyl, p_cup_corner, p_cyl_corner2, 2e-2) # Toggle\n",
    "    \n",
    "    SA[da, dt]\n",
    "end"
   ]
  },
  {
   "cell_type": "code",
   "execution_count": 14,
   "metadata": {},
   "outputs": [],
   "source": [
    "function PBDS.potential_chart(xn, task::Attractor{<:ToggledDistanceToCupRimDynamic{R3,R2,S}}, CN1::Chart{1,R2}) where S\n",
    "    α = 1.e-2\n",
    "    30*sqrt(xn[1]^2 + α)\n",
    "end\n",
    "\n",
    "PBDS.dissipative_forces_chart(xn, vn, task::Attractor{<:ToggledDistanceToCupRimDynamic{R3,R2,S}}, CN::Chart{1,R2}) where S  = 0*vn\n",
    "\n",
    "PBDS.metric_chart(xn, task::Attractor{<:ToggledDistanceToCupRimDynamic{R3,R2,S}}, CN::Chart{1,R2}) where S = PBDS.default_metric(xn, task, CN)\n",
    "function PBDS.weight_metric_chart(xn, vn, task::Attractor{<:ToggledDistanceToCupRimDynamic{R3,R2,S}}, CN::Chart{1,R2}) where S\n",
    "    n = dim(R2)\n",
    "    x_threshold = 0.02 # Threshold at which to toggle / untoggle state\n",
    "    if xn[2] > x_threshold\n",
    "        task.task_map.scenario_state[1] = 1\n",
    "    elseif task.task_map.cup_velocity[1] < 0.02\n",
    "        task.task_map.scenario_state[1] = 2\n",
    "    end\n",
    "    \n",
    "    w = task.task_map.scenario_state[1] == 2 ? 1. : 0.\n",
    "    W = SMatrix{n,n,eltype(xn)}(I)*w\n",
    "end"
   ]
  },
  {
   "cell_type": "markdown",
   "metadata": {},
   "source": [
    "### Joint Projection Task Map"
   ]
  },
  {
   "cell_type": "code",
   "execution_count": 15,
   "metadata": {},
   "outputs": [],
   "source": [
    "struct HandJointProjection{R7,R1,S} <: PBDS.TaskMap{R7,R1,S} end\n",
    "PBDS.task_map_emb(::EmbRep, ::EmbRep, xme, task_map::HandJointProjection{R7,R1}) = SA[xme[7]]"
   ]
  },
  {
   "cell_type": "markdown",
   "metadata": {},
   "source": [
    "### Projected Link Frame Transform"
   ]
  },
  {
   "cell_type": "code",
   "execution_count": 16,
   "metadata": {},
   "outputs": [],
   "source": [
    "if !(@isdefined HandJointLinkFrameTransform)\n",
    "    @computed struct HandJointLinkFrameTransform{R1,R12,S,JC} <: PBDS.TaskMap{R1,R12,S}\n",
    "        state_cache::StateCache{S,JC}\n",
    "        link_cache::fulltype(LinkFrameCache{7,S})\n",
    "        joint_config::Vector{SVector{7,S}}\n",
    "    end\n",
    "end\n",
    "HandJointLinkFrameTransform{R1,R12}(state_cache::StateCache{S,JC}, link_cache::LinkFrameCache{7,S},\n",
    "        joint_config::Vector{SVector{7,S}}) where {n,R12,S,JC} =\n",
    "    HandJointLinkFrameTransform{R1,R12,S,JC}(state_cache, link_cache, joint_config)\n",
    "function PBDS.task_map_emb(::EmbRep, ::EmbRep, xme,\n",
    "        task_map::HandJointLinkFrameTransform{R1,R12,S,JC}) where {n,S,JC}\n",
    "    xme_full = SA[task_map.joint_config[1][1:6]..., xme[1]]\n",
    "    PBDS.link_frame_transform(xme_full, task_map.state_cache, task_map.link_cache.link)\n",
    "end"
   ]
  },
  {
   "cell_type": "markdown",
   "metadata": {},
   "source": [
    "### Toggled Yaw Angle Attractor"
   ]
  },
  {
   "cell_type": "code",
   "execution_count": 17,
   "metadata": {},
   "outputs": [],
   "source": [
    "struct ToggledHandYawAngleDynamic{R12,R2,S} <: PBDS.TaskMap{R12,R2,S}\n",
    "    center_bottom::Vector{SVector{3,S}}\n",
    "    axis::Vector{SVector{3,S}}\n",
    "    cyl_radius::S\n",
    "    height::S\n",
    "    gap::S\n",
    "end\n",
    "\n",
    "function ToggledHandYawAngleDynamic{R12,R2}(cb::Vector{SVector{3,S}}, a::Vector{SVector{3,S}}, cr::S,\n",
    "        h::S, g::S) where {R12,R2,S}\n",
    "    ToggledHandYawAngleDynamic{R12,R2,S}(cb, [a[1]./norm(a[1])], cr, h, g)\n",
    "end\n",
    "\n",
    "function PBDS.task_map_emb(::EmbRep, ::EmbRep, xme, task_map::ToggledHandYawAngleDynamic{R12,R2})\n",
    "    center_bottom, axis = task_map.center_bottom[1], task_map.axis[1]\n",
    "    cyl_radius, height, gap = task_map.cyl_radius, task_map.height, task_map.gap\n",
    "    \n",
    "    R = SMatrix{3,3,eltype(xme)}(xme[static(1):static(9)])\n",
    "    position = xme[static(10):static(12)]\n",
    "    align_axis = R*SA[0., 1., 0.]\n",
    "    \n",
    "    α = 1.e-6                                  # Smoothing factor\n",
    "    p_world = position - center_bottom          # Position from origin in world frame\n",
    "    y_dist_cyl = dot(axis, p_world)             # Axial distance from origin\n",
    "    y_world = y_dist_cyl*axis                   # Axial position in world frame\n",
    "    x_world = p_world - y_world                 # Transverse position in world frame\n",
    "    x_dist_cyl = smooth_norm(x_world, α)        # Transverse distance from origin\n",
    "    p_cyl = SA[x_dist_cyl, y_dist_cyl]\n",
    "    \n",
    "    des_axis = smooth_normalization(x_world, 1/α)\n",
    "    \n",
    "    d = smooth_abs(dot(align_axis, des_axis), α)\n",
    "    da = d < 1. - 1e-6 ? acos(d) : 0.\n",
    "    dt = norm(p_cyl) # Toggle\n",
    "    \n",
    "    SA[da, dt]\n",
    "end"
   ]
  },
  {
   "cell_type": "code",
   "execution_count": 18,
   "metadata": {},
   "outputs": [],
   "source": [
    "function PBDS.potential_chart(xn, task::Attractor{<:ToggledHandYawAngleDynamic{R12,R2,S}}, CN1::Chart{1,R2}) where S\n",
    "    α = 1.e-3\n",
    "    30*xn[1]^2\n",
    "#     5*sqrt(xn[1]^2 + α)\n",
    "end\n",
    "\n",
    "PBDS.dissipative_forces_chart(xn, vn, task::Attractor{<:ToggledHandYawAngleDynamic{R12,R2,S}}, CN::Chart{1,R2}) where S  = 0*vn#-10*SA[0., vn[2]]\n",
    "\n",
    "PBDS.metric_chart(xn, task::Attractor{<:ToggledHandYawAngleDynamic{R12,R2,S}}, CN::Chart{1,R2}) where S = PBDS.default_metric(xn, task, CN)\n",
    "function PBDS.weight_metric_chart(xn, vn, task::Attractor{<:ToggledHandYawAngleDynamic{R12,R2,S}}, CN::Chart{1,R2}) where S\n",
    "    n = dim(R2)\n",
    "    xmin, xmax = 0.3, 0.1\n",
    "    fmin, fmax = 0., 1.\n",
    "    ε = 1.e-3\n",
    "    w = logistic_val(xn[2], xmin, xmax, fmin, fmax, ε)\n",
    "    W = SMatrix{n,n,eltype(xn)}(I)*w\n",
    "end"
   ]
  },
  {
   "cell_type": "markdown",
   "metadata": {},
   "source": [
    "### Toggled Hand Spin Axis Attractor"
   ]
  },
  {
   "cell_type": "code",
   "execution_count": 19,
   "metadata": {},
   "outputs": [],
   "source": [
    "struct ToggledHandSpinAxisDynamic{R12,R2,S} <: PBDS.TaskMap{R12,R2,S}\n",
    "    center_bottom::Vector{SVector{3,S}}\n",
    "    axis::Vector{SVector{3,S}}\n",
    "    cyl_radius::S\n",
    "    height::S\n",
    "    gap::S\n",
    "end\n",
    "\n",
    "function ToggledHandSpinAxisDynamic{R12,R2}(cb::Vector{SVector{3,S}}, a::Vector{SVector{3,S}}, cr::S,\n",
    "        h::S, g::S) where {R12,R2,S}\n",
    "    ToggledHandSpinAxisDynamic{R12,R2,S}(cb, [a[1]./norm(a[1])], cr, h, g)\n",
    "end\n",
    "\n",
    "function PBDS.task_map_emb(::EmbRep, ::EmbRep, xme, task_map::ToggledHandSpinAxisDynamic{R12,R2})\n",
    "    center_bottom, axis = task_map.center_bottom[1], task_map.axis[1]\n",
    "    cyl_radius, height, gap = task_map.cyl_radius, task_map.height, task_map.gap\n",
    "    \n",
    "    R = SMatrix{3,3,eltype(xme)}(xme[static(1):static(9)])\n",
    "    position = xme[static(10):static(12)] # Note that this is for the hand link, not the hand center\n",
    "    align_axis = R*SA[0., 0., -1.]\n",
    "    \n",
    "    α = 1.e-6                                   # Smoothing factor\n",
    "    p_world = position - center_bottom          # Position from origin in world frame\n",
    "    y_dist_cyl = dot(axis, p_world)             # Axial distance from origin\n",
    "    y_world = y_dist_cyl*axis                   # Axial position in world frame\n",
    "    x_world = p_world - y_world                 # Transverse position in world frame\n",
    "    x_dist_cyl = smooth_norm(x_world, α)        # Transverse distance from origin\n",
    "    p_cyl = SA[x_dist_cyl, y_dist_cyl]\n",
    "\n",
    "    p_corner1 = SA[cyl_radius, 0.]\n",
    "    p_corner2 = SA[cyl_radius, gap+height]\n",
    "    \n",
    "    d = dot(align_axis, axis)\n",
    "    da = d < 1. - 1e-10 ? acos(d) : 0.\n",
    "    dt = line_segment_distance(p_cyl, p_corner1, p_corner2)\n",
    "    SA[da, dt]\n",
    "end"
   ]
  },
  {
   "cell_type": "code",
   "execution_count": 20,
   "metadata": {},
   "outputs": [],
   "source": [
    "function PBDS.potential_chart(xn, task::Attractor{<:ToggledHandSpinAxisDynamic{R12,R2,S}}, CN1::Chart{1,R2}) where S\n",
    "    30*xn[1]^2\n",
    "end\n",
    "\n",
    "PBDS.dissipative_forces_chart(xn, vn, task::Attractor{<:ToggledHandSpinAxisDynamic{R12,R2,S}}, CN::Chart{1,R2}) where S  = 0*vn#-10*SA[0., vn[2]]\n",
    "\n",
    "PBDS.metric_chart(xn, task::Attractor{<:ToggledHandSpinAxisDynamic{R12,R2,S}}, CN::Chart{1,R2}) where S = PBDS.default_metric(xn, task, CN)\n",
    "function PBDS.weight_metric_chart(xn, vn, task::Attractor{<:ToggledHandSpinAxisDynamic{R12,R2,S}}, CN::Chart{1,R2}) where S\n",
    "    n = dim(R2)\n",
    "    xmin, xmax = 1., 0.1\n",
    "    fmin, fmax = 0., 1.\n",
    "    ε = 1.e-3\n",
    "    w = logistic_val(xn[2], xmin, xmax, fmin, fmax, ε)\n",
    "    W = SMatrix{n,n,eltype(xn)}(I)*w\n",
    "end"
   ]
  },
  {
   "cell_type": "markdown",
   "metadata": {},
   "source": [
    "## Get Collision Spheres"
   ]
  },
  {
   "cell_type": "code",
   "execution_count": 21,
   "metadata": {},
   "outputs": [
    {
     "data": {
      "text/plain": [
       "15-element Vector{RigidBody{Float64}}:\n",
       " RigidBody: \"world\"\n",
       " RigidBody: \"table\"\n",
       " RigidBody: \"panda_link0\"\n",
       " RigidBody: \"panda_link1\"\n",
       " RigidBody: \"panda_link2\"\n",
       " RigidBody: \"panda_link3\"\n",
       " RigidBody: \"panda_link4\"\n",
       " RigidBody: \"panda_link5\"\n",
       " RigidBody: \"panda_link6\"\n",
       " RigidBody: \"panda_link7\"\n",
       " RigidBody: \"panda_link8\"\n",
       " RigidBody: \"panda_hand\"\n",
       " RigidBody: \"panda_leftfinger\"\n",
       " RigidBody: \"panda_rightfinger\"\n",
       " RigidBody: \"panda_hand_center\""
      ]
     },
     "execution_count": 21,
     "metadata": {},
     "output_type": "execute_result"
    }
   ],
   "source": [
    "urdf = joinpath(\"..\", \"..\", \"urdf\", \"panda\", \"table_panda_arm_hand_fingers_fixed.urdf\")\n",
    "mechanism = parse_urdf(Float64, urdf)\n",
    "\n",
    "urdf_col = joinpath(\"..\", \"..\", \"urdf\", \"panda\", \"sphere_col\", \"table_panda_arm_hand_fingers_fixed.urdf\")\n",
    "sphere_ves = visual_elements(mechanism, URDFVisuals(urdf_col, tag=\"collision\"))\n",
    "\n",
    "state = MechanismState(mechanism)\n",
    "state_cache = StateCache(mechanism)\n",
    "\n",
    "n_links = 11\n",
    "ind_sphere_link = [3:10; 12:14]\n",
    "frame_list = [bodies(mechanism)[3].frame_definitions[1].from;\n",
    "    [joints(mechanism)[i].frame_after for i in [3:9; 11:13]]]\n",
    "sphere_links = bodies(mechanism)[ind_sphere_link]\n",
    "\n",
    "link_caches = [LinkFrameCache(link, state) for link in sphere_links]\n",
    "point_caches = [[] for i=1:n_links]\n",
    "sphere_radii = [Float64[] for i=1:n_links]\n",
    "sphere_centers = [[] for i=1:n_links]\n",
    "\n",
    "for sphere_ve in sphere_ves\n",
    "    i_parent = findfirst(isequal(sphere_ve.frame), frame_list)\n",
    "    push!(sphere_radii[i_parent], sphere_ve.geometry.r)\n",
    "    push!(sphere_centers[i_parent], sphere_ve.transform.translation)\n",
    "    push!(point_caches[i_parent], FramePointCache(link_caches[i_parent], sphere_centers[i_parent][end]))\n",
    "end\n",
    "\n",
    "# Generate self-collision matrix\n",
    "collision_matrix = zeros(n_links,n_links)\n",
    "collision_matrix[6,1:2] .= 1\n",
    "collision_matrix[7:11,1:3] .= 1\n",
    "collision_matrix\n",
    "\n",
    "bodies(mechanism)"
   ]
  },
  {
   "cell_type": "markdown",
   "metadata": {},
   "source": [
    "### Updatable mug struct"
   ]
  },
  {
   "cell_type": "code",
   "execution_count": 22,
   "metadata": {},
   "outputs": [],
   "source": [
    "struct MugArmParams{S}\n",
    "    arm_joint_config::Vector{SVector{7,S}}\n",
    "    \n",
    "    cup_center_bottom::Vector{SVector{3,S}}\n",
    "    cup_rim_center::Vector{SVector{3,S}}\n",
    "    cup_axis::Vector{SVector{3,S}}\n",
    "    cyl_center_bottom::Vector{SVector{3,S}}\n",
    "    cup_velocity::Vector{S}\n",
    "    scenario_state::Vector{Int}\n",
    "    \n",
    "    cup_height::S\n",
    "    gap::S\n",
    "end"
   ]
  },
  {
   "cell_type": "markdown",
   "metadata": {},
   "source": [
    "## Mug placement scenarios"
   ]
  },
  {
   "cell_type": "code",
   "execution_count": 23,
   "metadata": {},
   "outputs": [
    {
     "data": {
      "text/plain": [
       "f_cup_axis (generic function with 1 method)"
      ]
     },
     "execution_count": 23,
     "metadata": {},
     "output_type": "execute_result"
    }
   ],
   "source": [
    "in2m = 0.0254\n",
    "\n",
    "# Scenario 1\n",
    "f_cup_center_bottom(t) = SA[0.5, 0.5, 0.]\n",
    "Time = 4.\n",
    "\n",
    "# Scenario 2\n",
    "f_cup_center_bottom(t) = SA[0.1, 0.2, 0.]\n",
    "Time = 7.\n",
    "\n",
    "# Scenario 3\n",
    "function f_cup_center_bottom(t)\n",
    "    ts = SA[0.5, 5.]\n",
    "    p1 = SA[0.1, 0.2, 0.]\n",
    "    p1dot = 0.1*SA[1., -0.5, 0.]\n",
    "    p2 = SA[0.5, 0.55, 0.]\n",
    "    \n",
    "    ε = 1.e-2\n",
    "    tmin, tmax = 0.5, 5.\n",
    "    smin, smax = ts[1], ts[2]\n",
    "    s = logistic_val(t, tmin, tmax, smin, smax, ε)\n",
    "    p = spline2(s, p1, p1dot, p2, ts)\n",
    "end\n",
    "Time = 10.\n",
    "\n",
    "# Scenario 4\n",
    "function f_cup_center_bottom(t)\n",
    "    ts = SA[0.05, 5.]\n",
    "    p1 = SA[0.9, 0.35, 2*5*in2m]\n",
    "    p1dot = 0.1*SA[-1.3, 0.5, 0.7]\n",
    "    p2 = SA[0.45, 0.5, 0.]\n",
    "    \n",
    "    ε = 1.e-2\n",
    "    tmin, tmax = 0.5, 5.\n",
    "    smin, smax = ts[1], ts[2]\n",
    "    s = logistic_val(t, tmin, tmax, smin, smax, ε)\n",
    "    p = spline2(s, p1, p1dot, p2, ts)\n",
    "end\n",
    "Time = 10.\n",
    "\n",
    "# Scenario 5\n",
    "function f_cup_center_bottom(t)\n",
    "    ts = SA[0.1, 5.]\n",
    "    p1 = SA[0.9, 0.9, 0.]\n",
    "    p1dot = 0.1*SA[-1., -1., 3.]\n",
    "    p2 = SA[0.1, 0.2, 0.]\n",
    "    \n",
    "    ε = 1.e-2\n",
    "    tmin, tmax = 0.3, 7.\n",
    "    smin, smax = ts[1], ts[2]\n",
    "    s = logistic_val(t, tmin, tmax, smin, smax, ε)\n",
    "    p = spline2(s, p1, p1dot, p2, ts)\n",
    "end\n",
    "Time = 15.\n",
    "\n",
    "\n",
    "function spline2(t, p1, p1dot, p2, ts)\n",
    "    A = [ts[1]^2 ts[1] 1.\n",
    "         2ts[1]  1.    0.\n",
    "         ts[2]^2 ts[2] 1.]\n",
    "    ax = A \\ [p1[1], p1dot[1], p2[1]]\n",
    "    ay = A \\ [p1[2], p1dot[2], p2[2]]\n",
    "    az = A \\ [p1[3], p1dot[3], p2[3]]\n",
    "    \n",
    "    p = SA[ax[1]*t^2 + ax[2]*t + ax[3];\n",
    "           ay[1]*t^2 + ay[2]*t + ay[3];\n",
    "           az[1]*t^2 + az[2]*t + az[3]]\n",
    "end\n",
    "\n",
    "function f_cup_axis(t)\n",
    "    SA[0.,0.,1.]\n",
    "end"
   ]
  },
  {
   "cell_type": "code",
   "execution_count": 24,
   "metadata": {},
   "outputs": [
    {
     "data": {
      "text/plain": [
       "update_mug_params! (generic function with 1 method)"
      ]
     },
     "execution_count": 24,
     "metadata": {},
     "output_type": "execute_result"
    }
   ],
   "source": [
    "# Version with updateable mug\n",
    "function PBDS.task_acceleration(xm, vm, t, node::TreeNode{M}, CM::Chart{I,M}, \n",
    "        state::MechanismState, cache::ControllerCache, mugparams::MugArmParams, robot_coord_rep=ChartRep();\n",
    "        log_tasks=false) where {M<:PBDS.Manifold,I}\n",
    "    set_configuration!(state, xm)\n",
    "    setdirty!(cache)\n",
    "    update_mug_params!(mugparams, xm, t)\n",
    "    task_acceleration(xm, vm, node, CM, robot_coord_rep; log_tasks)\n",
    "end\n",
    "\n",
    "function update_mug_params!(mp::MugArmParams, xm, t)\n",
    "    mp.arm_joint_config[1] = xm\n",
    "    mp.cup_center_bottom[1] = f_cup_center_bottom(t)\n",
    "    mp.cup_axis[1] = f_cup_axis(t)\n",
    "    mp.cup_rim_center[1] = mp.cup_center_bottom[1] + mp.cup_height*mp.cup_axis[1]\n",
    "    mp.cyl_center_bottom[1] = mp.cup_rim_center[1] + mp.gap*mp.cup_axis[1]\n",
    "    cup_velocity_vec = ForwardDiff.jacobian(tvec -> f_cup_center_bottom(tvec[1]), SA[t])\n",
    "    mp.cup_velocity[1] = norm(cup_velocity_vec)\n",
    "    if cup_velocity[1] > 0.01\n",
    "        mp.scenario_state[1] = 1\n",
    "    end\n",
    "    nothing\n",
    "end"
   ]
  },
  {
   "cell_type": "markdown",
   "metadata": {},
   "source": [
    "### Assemble tree"
   ]
  },
  {
   "cell_type": "code",
   "execution_count": 25,
   "metadata": {
    "scrolled": true
   },
   "outputs": [
    {
     "data": {
      "text/plain": [
       "MugArmParams{Float64}(SVector{7, Float64}[[0.0, 0.0, 0.0, 0.0, 0.0, 0.0, 0.0]], SVector{3, Float64}[[1.0, 0.5, 0.0]], SVector{3, Float64}[[1.0, 0.5, 0.105]], SVector{3, Float64}[[0.0, 0.0, 1.0]], SVector{3, Float64}[[1.0, 0.5, 0.40499999999999997]], [0.003514036976636706], [1], 0.105, 0.3)"
      ]
     },
     "execution_count": 25,
     "metadata": {},
     "output_type": "execute_result"
    }
   ],
   "source": [
    "# Robot state\n",
    "CM = Chart{1,R7}()\n",
    "root = TreeNode(R7())\n",
    "\n",
    "# Damping\n",
    "add_child!(root, Damping(Identity{R7,R7,Float64}())) # 42 us, 40 alloc\n",
    "\n",
    "# Joint Limits\n",
    "hi = [2.8973, 1.7628, 2.8973, -0.0698, 2.8973, 3.7525, 2.8973]\n",
    "lo = [-2.8973, -1.7628, -2.8973, -3.0718, -2.8973, -0.0175, -2.8973]\n",
    "for i = 1:7\n",
    "    add_child!(root, JointLimit(Coordinate{R7,R1,Float64}(i),hi[i],lo[i])) # 1 us, 21 alloc\n",
    "end\n",
    "\n",
    "# Self-collision Constraints # 2610 us, 2841 alloc\n",
    "for i = 1:n_links, j = 1:n_links\n",
    "    if collision_matrix[i,j] == 1\n",
    "        for ki = 1:length(sphere_radii[i]), kj = 1:length(sphere_radii[j])\n",
    "            add_child!(root, SelfAvoidance(LinkSpherePairDistance{R7,R1}(state, state_cache,\n",
    "                point_caches[i][ki], point_caches[j][kj], sphere_radii[i][ki], sphere_radii[j][kj])))\n",
    "        end\n",
    "    end\n",
    "end\n",
    "\n",
    "# Mug Avoidance\n",
    "N = R1\n",
    "CN = Chart{1,N}()\n",
    "# cup_center_bottom = SA[0.55, 0.55, 0.]\n",
    "cup_center_bottom = SA[1.0, 0.5, 0.]\n",
    "cup_axis = SA[0., 0., 1.]\n",
    "cup_axis = cup_axis ./ norm(cup_axis)\n",
    "cup_radius = 0.04\n",
    "cup_height = 0.105\n",
    "\n",
    "v_cup_center_bottom = [cup_center_bottom]\n",
    "v_cup_axis = [cup_axis]\n",
    "\n",
    "# Box avoidance\n",
    "in2m = 0.0254\n",
    "ft2m = 0.3048\n",
    "blackcolor = MeshBasicMaterial(color=RGBA(0.,0.,0.,0.5))\n",
    "bluecolor = MeshBasicMaterial(color=RGBA(0.,0.,1.,0.3))\n",
    "# Small box obstacles\n",
    "dim_small = SA[5.25, 10.5, 5]*in2m\n",
    "centers_small, rotations_small, gbrects_small, gtrects_small, colors_small = [], [], [], [], []\n",
    "# Large box obstacles\n",
    "dim_large = SA[10.75, 10.5, 5]*in2m\n",
    "centers_large, rotations_large, gbrects_large, gtrects_large, colors_large = [], [], [], [], []\n",
    "\n",
    "# Small boxes\n",
    "push!(centers_small, SA[0.2, 0.5, dim_small[3]/2])\n",
    "push!(rotations_small, RotZ(pi/4))\n",
    "push!(colors_small, blackcolor)\n",
    "\n",
    "push!(centers_small, SA[0.2, 0.5, 3*dim_small[3]/2])\n",
    "push!(rotations_small, RotZ(-pi/8))\n",
    "push!(colors_small, bluecolor)\n",
    "\n",
    "push!(centers_small, SA[0.5, 0.2, dim_small[2]/2])\n",
    "push!(rotations_small, RotZ(-pi/10)*RotX(pi/2))\n",
    "push!(colors_small, bluecolor)\n",
    "\n",
    "push!(centers_small, SA[0.6, 0.7, dim_small[2]/2])\n",
    "push!(rotations_small, RotZ(-pi/3)*RotX(pi/2))\n",
    "push!(colors_small, blackcolor)\n",
    "\n",
    "# Large boxes\n",
    "push!(centers_large, SA[0.8, 0.4, dim_large[3]/2])\n",
    "push!(rotations_large, RotZ(2*pi/10))\n",
    "push!(colors_large, bluecolor)\n",
    "push!(centers_large, SA[0.8, 0.4, 3*dim_large[3]/2])\n",
    "push!(rotations_large, RotZ(pi/10))\n",
    "push!(colors_large, blackcolor)\n",
    "\n",
    "link_frame_nodes = []\n",
    "point_position_nodes = []\n",
    "\n",
    "for i = 1:n_links\n",
    "    push!(link_frame_nodes, add_child!(root, LinkFrameTransform{R7,R12}(state_cache, link_caches[i])))\n",
    "    for j = 1:length(sphere_radii[i])\n",
    "        push!(point_position_nodes, add_child!(link_frame_nodes[i],\n",
    "            LinkSpherePosition{R12,R3}(point_caches[i][j])))\n",
    "        # Cup avoidance\n",
    "        add_child!(point_position_nodes[end], CollisionAvoidance(DistanceSphereToCupDynamic{R3,R1}(v_cup_center_bottom, \n",
    "            v_cup_axis, cup_radius, Float64(sphere_radii[i][j]), cup_height))) # 2000 us, 770 alloc\n",
    "        # Table avoidance\n",
    "        add_child!(point_position_nodes[end], CollisionAvoidance(DistanceSphereToBoxDynamic{R3,R1}(Float64(sphere_radii[i][j]), [GeometryBasics.Rect(GBVec(0.,0.,-ft2m), GBVec(SA[9.,12.,1]*ft2m))], [RotX(0)])))\n",
    "        # Box avoidance\n",
    "        for k in 1:length(centers_small)\n",
    "            corner_small = centers_small[k] - dim_small./2\n",
    "            push!(gbrects_small, GeometryBasics.Rect(GBVec(corner_small), GBVec(dim_small)))\n",
    "            push!(gtrects_small, GeometryTypes.HyperRectangle(GeometryTypes.Vec(corner_small...), GeometryTypes.Vec(dim_small...)))\n",
    "            add_child!(point_position_nodes[end], CollisionAvoidance(DistanceSphereToBoxDynamic{R3,R1}(Float64(sphere_radii[i][j]), [gbrects_small[end]], [rotations_small[k]])))\n",
    "        end\n",
    "        \n",
    "        for k in 1:length(centers_large)\n",
    "            corner_large = centers_large[k] - dim_large./2\n",
    "            push!(gbrects_large, GeometryBasics.Rect(GBVec(corner_large), GBVec(dim_large)))\n",
    "            push!(gtrects_large, GeometryTypes.HyperRectangle(GeometryTypes.Vec(corner_large...), GeometryTypes.Vec(dim_large...)))\n",
    "            add_child!(point_position_nodes[end], CollisionAvoidance(DistanceSphereToBoxDynamic{R3,R1}(Float64(sphere_radii[i][j]), [gbrects_large[end]], [rotations_large[k]])))\n",
    "        end\n",
    "    end\n",
    "end\n",
    "\n",
    "# Hand Center Position\n",
    "link = findbody(mechanism, \"panda_hand_center\")\n",
    "hand_center_position = add_child!(root, JointToLinkPosition{R7,R3}(state_cache, link))\n",
    "\n",
    "scenario_state = [1]\n",
    "cup_velocity = [norm(ForwardDiff.jacobian(tvec -> f_cup_center_bottom(tvec[1]), SA[0.]))]\n",
    "\n",
    "# Attactor cylinder above mug (horizontal attraction)\n",
    "cup_rim_center = cup_center_bottom + cup_height*cup_axis\n",
    "gap = 0.3\n",
    "cyl_height = 0.1\n",
    "cyl_center_bottom = cup_rim_center + gap*cup_axis\n",
    "v_cup_rim_center = [cup_rim_center]\n",
    "v_cyl_center_bottom = [cyl_center_bottom]\n",
    "add_child!(hand_center_position, Attractor(ToggledDistanceToCylinderAboveCupDynamic{R3,R2}(v_cup_rim_center, v_cup_axis, cup_radius, cyl_height, gap, cup_velocity, scenario_state)))\n",
    "\n",
    "# Attractor cylinder with gap above mug\n",
    "add_child!(hand_center_position, Attractor(ToggledDistanceToGapCylinderAboveCupDynamic{R3,R2}(v_cup_rim_center, v_cup_axis, cup_radius, cyl_height, gap, cup_velocity, scenario_state)))\n",
    "\n",
    "# Toggled attractor cylinder at mug rim\n",
    "add_child!(hand_center_position, Attractor(ToggledDistanceToCupRimDynamic{R3,R2}(v_cup_rim_center, v_cup_axis, cup_radius, cyl_height, gap, cup_velocity, scenario_state)))\n",
    "\n",
    "# Toggled yaw angle attractor\n",
    "arm_joint_config = [@SVector zeros(7)]\n",
    "child1 = add_child!(root, HandJointProjection{R7,R1,Float64}())\n",
    "child2 = add_child!(child1, HandJointLinkFrameTransform{R1,R12}(state_cache, link_caches[9], arm_joint_config))\n",
    "add_child!(child2, Attractor(ToggledHandYawAngleDynamic{R12,R2}(v_cup_rim_center, v_cup_axis, cup_radius, cyl_height, gap)))\n",
    "\n",
    "# Toggled hand spin axis attractor\n",
    "add_child!(link_frame_nodes[9], Attractor(ToggledHandSpinAxisDynamic{R12,R2}(v_cup_rim_center, v_cup_axis, cup_radius, cyl_height, gap)))\n",
    "\n",
    "# End effector position damping\n",
    "add_child!(hand_center_position, Damping(Identity{R3,R3,Float64}()))\n",
    "\n",
    "# End effector S2 damping around cup\n",
    "CN = Chart{SterProjNorth,S2}()\n",
    "add_child!(hand_center_position, Damping(AngularPositionAroundPoint{R3,S2}(cup_rim_center)); CN)\n",
    "\n",
    "mugparams = MugArmParams(arm_joint_config, v_cup_center_bottom, v_cup_rim_center, v_cup_axis, v_cyl_center_bottom, cup_velocity, scenario_state, cup_height, gap)"
   ]
  },
  {
   "cell_type": "markdown",
   "metadata": {},
   "source": [
    "### Collect set of caches to update"
   ]
  },
  {
   "cell_type": "code",
   "execution_count": 26,
   "metadata": {},
   "outputs": [],
   "source": [
    "cache = ControllerCache(link_caches, reduce(vcat, point_caches));"
   ]
  },
  {
   "cell_type": "code",
   "execution_count": 27,
   "metadata": {},
   "outputs": [
    {
     "data": {
      "text/plain": [
       "7-element SVector{7, Float64} with indices SOneTo(7):\n",
       " -4.004114916706162\n",
       "  5.227014610075148\n",
       " -4.004114916731965\n",
       " -0.43795242001539236\n",
       " -1.1184746228183762\n",
       " -1.2827745372663366\n",
       " -1.622002930198231e-19"
      ]
     },
     "execution_count": 27,
     "metadata": {},
     "output_type": "execute_result"
    }
   ],
   "source": [
    "CM = Chart{1,R7}()\n",
    "\n",
    "hi = [2.8973, 1.7628, 2.8973, -0.0698, 2.8973, 3.7525, 2.8973]\n",
    "lo = [-2.8973, -1.7628, -2.8973, -3.0718, -2.8973, -0.0175, -2.8973]\n",
    "\n",
    "xm = SA[((hi+lo)/2)...]\n",
    "Δx = SA[0., 0., 0., 0., 0., 0., 0.]\n",
    "xm = xm + Δx\n",
    "vm = @SVector zeros(7)\n",
    "\n",
    "σxddot = task_acceleration(xm, vm, 0., root, CM, state, cache, mugparams)"
   ]
  },
  {
   "cell_type": "code",
   "execution_count": 28,
   "metadata": {
    "scrolled": true
   },
   "outputs": [
    {
     "name": "stdout",
     "output_type": "stream",
     "text": [
      "  1.850 ms (17954 allocations: 1.17 MiB)\n"
     ]
    },
    {
     "data": {
      "text/plain": [
       "7-element SVector{7, Float64} with indices SOneTo(7):\n",
       " -4.004114916706162\n",
       "  5.227014610075148\n",
       " -4.004114916731965\n",
       " -0.43795242001539236\n",
       " -1.1184746228183762\n",
       " -1.2827745372663366\n",
       " -1.622002930198231e-19"
      ]
     },
     "execution_count": 28,
     "metadata": {},
     "output_type": "execute_result"
    }
   ],
   "source": [
    "@btime task_acceleration($xm, $vm, $root, $CM, $state, $cache, $mugparams)"
   ]
  },
  {
   "cell_type": "markdown",
   "metadata": {},
   "source": [
    "## Single Trajectory Test"
   ]
  },
  {
   "cell_type": "code",
   "execution_count": 29,
   "metadata": {
    "scrolled": true
   },
   "outputs": [
    {
     "data": {
      "text/plain": [
       "7-element SVector{7, Float64} with indices SOneTo(7):\n",
       "  0.43689273354501057\n",
       "  0.39238591305614884\n",
       "  0.3789474696789413\n",
       " -2.3015134034483866\n",
       " -0.2948540208001395\n",
       "  2.6467763415625156\n",
       "  0.34487635450886506"
      ]
     },
     "execution_count": 29,
     "metadata": {},
     "output_type": "execute_result"
    }
   ],
   "source": [
    "# Time = 15.\n",
    "dt = 0.02\n",
    "t0 = 0.\n",
    "\n",
    "time_dep = true\n",
    "robot_coord_rep = EmbRep()\n",
    "traj = propagate_tasks(xm, vm, root, CM, Time, dt, robot_coord_rep, state, cache, mugparams; time_dep, log_tasks=true)\n",
    "traj.xm[end]"
   ]
  },
  {
   "cell_type": "code",
   "execution_count": 30,
   "metadata": {},
   "outputs": [],
   "source": [
    "σxddot = task_acceleration(traj.xm[end], traj.vm[end], 0., root, CM, state, cache, mugparams);"
   ]
  },
  {
   "cell_type": "markdown",
   "metadata": {},
   "source": [
    "### Note: Correctly visualizing the arm requires the following:\n",
    "\n",
    "1) Installation of the franka_ros ROS package https://github.com/frankaemika/franka_ros\n",
    "\n",
    "2) Installation of RigidBodyDynamics v2.2.1 to the PBDS Julia environment. This version is currently only available in the master branch of the RigidBodyDynamics repo and can be installed through the Julia package manager via the following:\n",
    "    \n",
    "    activate PBDS\n",
    "    add RigidBodyDynamics#master"
   ]
  },
  {
   "cell_type": "code",
   "execution_count": 31,
   "metadata": {},
   "outputs": [
    {
     "name": "stderr",
     "output_type": "stream",
     "text": [
      "┌ Info: MeshCat server started. You can open the visualizer by visiting the following URL in your browser:\n",
      "│ http://localhost:8700\n",
      "└ @ MeshCat /home/bylard/.julia/packages/MeshCat/X2AUA/src/visualizer.jl:73\n"
     ]
    },
    {
     "data": {
      "text/plain": [
       "Process(`\u001b[4mxdg-open\u001b[24m \u001b[4mhttp://localhost:8700\u001b[24m`, ProcessExited(0))"
      ]
     },
     "execution_count": 31,
     "metadata": {},
     "output_type": "execute_result"
    }
   ],
   "source": [
    "# Modification to allow visualization of meshes\n",
    "function MeshCatMechanisms.setelement!(mvis::MechanismVisualizer, frame::CartesianFrame3D, geometry::MeshCatMechanisms.MeshFile, material::AbstractMaterial, name::AbstractString=\"<element>\")\n",
    "    ext = lowercase(splitext(geometry.filename)[2])\n",
    "    if ext == \".dae\"\n",
    "        obj = MeshFileObject(geometry.filename)\n",
    "    else\n",
    "        obj = Object(MeshFileGeometry(geometry.filename), material)\n",
    "    end\n",
    "    setelement!(mvis, frame, obj, name)\n",
    "end\n",
    "\n",
    "urdf_vis = joinpath(\"..\", \"..\", \"urdf\", \"panda\", \"table_mug_panda_arm_hand_fingers_fixed.urdf\")\n",
    "# urdf_vis = joinpath(\"..\", \"..\", \"urdf\", \"panda\", \"sphere_vis\", \"table_mug_panda_arm_hand_fingers_fixed.urdf\") # To visualize collision spheres\n",
    "mechanism_vis = parse_urdf(Float64, urdf_vis)\n",
    "mvis = MechanismVisualizer(mechanism_vis, URDFVisuals(urdf_vis))\n",
    "open(mvis)"
   ]
  },
  {
   "cell_type": "code",
   "execution_count": 32,
   "metadata": {},
   "outputs": [
    {
     "data": {
      "text/plain": [
       "MeshCat Visualizer with path /Cameras/default/rotated/<object> at http://localhost:8700"
      ]
     },
     "execution_count": 32,
     "metadata": {},
     "output_type": "execute_result"
    },
    {
     "name": "stdout",
     "output_type": "stream",
     "text": [
      "Opening in existing browser session.\n"
     ]
    }
   ],
   "source": [
    "# Put mug in position\n",
    "joint = findjoint(mechanism_vis, \"mug_joint\")\n",
    "q = configuration(mvis.state, joint)\n",
    "q[5:7] = f_cup_center_bottom(7)\n",
    "set_configuration!(mvis.state, joint, q)\n",
    "MeshCatMechanisms._render_state!(mvis)\n",
    "\n",
    "# Visualize attractor cylinders\n",
    "# mvis[:goal]\n",
    "# setobject!(mvis[:goal][:cup], \n",
    "# Object(GeometryTypes.Cylinder(GeometryTypes.Point3(f_cup_center_bottom(0)...), GeometryTypes.Point3(f_cup_center_bottom(0) + cup_axis*cyl_height...), cup_radius),\n",
    "#         MeshBasicMaterial(color=RGBA(0,1.0,0.,0.3))))\n",
    "\n",
    "# setobject!(mvis[:goal][:cyl1], \n",
    "# Object(GeometryTypes.Cylinder(GeometryTypes.Point3((f_cup_center_bottom(0) + cup_axis*(cup_height + gap))...), GeometryTypes.Point3((f_cup_center_bottom(0) + cup_axis*(cup_height + gap +cyl_height))...), cup_radius),\n",
    "#         MeshBasicMaterial(color=RGBA(0.,0.,1.,0.3))))\n",
    "\n",
    "# Visualize box obstacles\n",
    "mvis[:obs][:small]\n",
    "for i = 1:length(centers_small)\n",
    "    obj = mvis[:obs][:small][Symbol(\"box\",i)]\n",
    "    setobject!(obj, Object(gtrects_small[i], colors_small[i]))\n",
    "    t = Translation(centers_small[i])\n",
    "    R = LinearMap(rotations_small[i])\n",
    "    settransform!(obj, t∘R∘inv(t))\n",
    "end\n",
    "\n",
    "mvis[:obs][:large]\n",
    "for i = 1:length(centers_large)\n",
    "    obj = mvis[:obs][:large][Symbol(\"box\",i)]\n",
    "    setobject!(obj, Object(gtrects_large[i], colors_large[i]))\n",
    "    t = Translation(centers_large[i])\n",
    "    R = LinearMap(rotations_large[i])\n",
    "    settransform!(obj, t∘R∘inv(t))\n",
    "end\n",
    "\n",
    "trans = Translation(-0.5,-0.3,0.)\n",
    "rot1 = LinearMap(RotY(0.0)*RotX(-π/2))\n",
    "settransform!(mvis[\"\"], trans ∘ rot1)\n",
    "rot2 = LinearMap(RotY(0.0)*RotZ(2.3))\n",
    "settransform!(mvis[\"/Cameras/default\"], rot2)\n",
    "setprop!(mvis[\"/Cameras/default/rotated/<object>\"], \"zoom\", 3.0)"
   ]
  },
  {
   "cell_type": "code",
   "execution_count": 33,
   "metadata": {},
   "outputs": [],
   "source": [
    "q_traj = [SA[1., 0., 0., 0., f_cup_center_bottom(dt*(i-1))..., traj.xm[i]...] for i in 1:length(traj.xm)]\n",
    "t_traj = collect(range(0., length=length(q_traj), stop=Time));"
   ]
  },
  {
   "cell_type": "code",
   "execution_count": 36,
   "metadata": {},
   "outputs": [],
   "source": [
    "MeshCatMechanisms.animate(mvis, t_traj, q_traj)"
   ]
  },
  {
   "cell_type": "code",
   "execution_count": null,
   "metadata": {},
   "outputs": [],
   "source": [
    "animation = Animation(mvis, t_traj, q_traj)\n",
    "setanimation!(mvis, animation)"
   ]
  },
  {
   "cell_type": "code",
   "execution_count": null,
   "metadata": {},
   "outputs": [],
   "source": []
  }
 ],
 "metadata": {
  "@webio": {
   "lastCommId": null,
   "lastKernelId": null
  },
  "kernelspec": {
   "display_name": "Julia 1.6.0-beta1",
   "language": "julia",
   "name": "julia-1.6"
  },
  "language_info": {
   "file_extension": ".jl",
   "mimetype": "application/julia",
   "name": "julia",
   "version": "1.6.0"
  }
 },
 "nbformat": 4,
 "nbformat_minor": 2
}
