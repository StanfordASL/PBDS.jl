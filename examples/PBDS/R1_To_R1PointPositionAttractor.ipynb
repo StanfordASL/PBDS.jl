{
 "cells": [
  {
   "cell_type": "markdown",
   "metadata": {},
   "source": [
    "## R1 To R1 Attractor, Position Around Point"
   ]
  },
  {
   "cell_type": "code",
   "execution_count": null,
   "metadata": {
    "scrolled": false
   },
   "outputs": [],
   "source": [
    "using PBDS, StaticArrays, LinearAlgebra, BenchmarkTools"
   ]
  },
  {
   "cell_type": "markdown",
   "metadata": {},
   "source": [
    "## Setup"
   ]
  },
  {
   "cell_type": "code",
   "execution_count": null,
   "metadata": {},
   "outputs": [],
   "source": [
    "PBDS.metric_chart(xn, task::Attractor{<:PositionAroundPoint{R1,R1}}, CN::Chart{1,R1}) = \n",
    "    default_metric(xn, task, CN)\n",
    "PBDS.potential_chart(xn, task::Attractor{<:PositionAroundPoint{R1,R1}}, CN::Chart{1,R1}) = sum(xn.^2)\n",
    "PBDS.dissipative_forces_chart(xn, vn, task::Attractor{<:PositionAroundPoint{R1,R1}}, CN::Chart{1,R1}) = -3*vn\n",
    "PBDS.weight_metric_chart(xn, vn, task::Attractor{<:PositionAroundPoint{R1,R1}}, CN::Chart{1,R1}) = \n",
    "    default_weight_metric(xn, vn, task, CN)"
   ]
  },
  {
   "cell_type": "code",
   "execution_count": null,
   "metadata": {},
   "outputs": [],
   "source": [
    "xm_goal = SA[0.]\n",
    "M, N = R1, R1\n",
    "task = Attractor(PositionAroundPoint{M,N}(xm_goal))\n",
    "CM, CN = Chart{1,M}(), Chart{1,N}()"
   ]
  },
  {
   "cell_type": "markdown",
   "metadata": {},
   "source": [
    "## Point Acceleration"
   ]
  },
  {
   "cell_type": "code",
   "execution_count": null,
   "metadata": {},
   "outputs": [],
   "source": [
    "# Initial state\n",
    "xm = SA[2.]\n",
    "vm = SA[2.]\n",
    "\n",
    "σxddot, = single_task_acceleration(xm, vm, task, CM, CN)"
   ]
  },
  {
   "cell_type": "markdown",
   "metadata": {},
   "source": [
    "## Single Trajectory"
   ]
  },
  {
   "cell_type": "code",
   "execution_count": null,
   "metadata": {},
   "outputs": [],
   "source": [
    "Time = 10\n",
    "dt = 0.05\n",
    "robot_coord_rep = ChartRep()\n",
    "traj = propagate_task(xm, vm, task, CM, CN, Time, dt, robot_coord_rep)\n",
    "traj.xm[end]"
   ]
  },
  {
   "cell_type": "code",
   "execution_count": null,
   "metadata": {},
   "outputs": [],
   "source": [
    "using ProgressMeter, VectorizedRoutines\n",
    "using Plots, Makie, Observables"
   ]
  },
  {
   "cell_type": "code",
   "execution_count": null,
   "metadata": {},
   "outputs": [],
   "source": [
    "Nplot = length(traj.xm)\n",
    "isdefined(Main, :no_plots) || Plots.plot(getindex.(traj.xm,1)[1:Nplot])"
   ]
  },
  {
   "cell_type": "markdown",
   "metadata": {},
   "source": [
    "## Multiple Trajectories"
   ]
  },
  {
   "cell_type": "code",
   "execution_count": null,
   "metadata": {},
   "outputs": [],
   "source": [
    "Time = 5\n",
    "dt = 0.02\n",
    "a = 2.\n",
    "xm, vm = Matlab.meshgrid(-a:1.:a, -a:1.:a)\n",
    "xm, vm = reshape(xm, length(xm)), reshape(vm, length(vm))\n",
    "\n",
    "# Remove zero point\n",
    "ind_mid = length(xm) ÷ 2 + 1 \n",
    "deleteat!(xm, ind_mid)\n",
    "deleteat!(vm, ind_mid)\n",
    "\n",
    "ntraj = length(xm)\n",
    "trajs = Array{Any}(undef, ntraj)\n",
    "p = Progress(ntraj)\n",
    "\n",
    "Threads.@threads for i = 1:ntraj\n",
    "    trajs[i] = propagate_task(SA[xm[i]], SA[vm[i]], task, CM, CN, Time, dt, robot_coord_rep)\n",
    "    isdefined(Main, :Test) || next!(p)\n",
    "end"
   ]
  },
  {
   "cell_type": "markdown",
   "metadata": {},
   "source": [
    "### In (x, v, a) space"
   ]
  },
  {
   "cell_type": "code",
   "execution_count": null,
   "metadata": {},
   "outputs": [],
   "source": [
    "AbstractPlotting.inline!(false)\n",
    "fx(i) = [trajs[j].xm[i][1] for j = 1:ntraj]\n",
    "fy(i) = [trajs[j].vm[i][1] for j = 1:ntraj]\n",
    "fz(i) = [trajs[j].am[i][1] for j = 1:ntraj]\n",
    "f(i) = [trajs[j].xm[i] trajs[j].vm[i] trajs[j].am[i]]\n",
    "iobs = Observable(1)\n",
    "\n",
    "ax_size, plot_size = 5, 800\n",
    "limits = FRect3D((-ax_size, -ax_size, -ax_size), (2*ax_size, 2*ax_size, 2*ax_size))\n",
    "scene = Scene(resolution = (plot_size, plot_size))\n",
    "Makie.scatter!(scene, lift(i -> fx(i), iobs), lift(i -> fy(i), iobs), lift(i -> fz(i), iobs))\n",
    "Makie.scatter!(scene, lift(i -> fx(i), iobs), lift(i -> fy(i), iobs), lift(i -> fz(i), iobs), markersize = ax_size/20, color = :blue, limits = limits)\n",
    "Makie.scatter!(scene, [xm_goal[1] 0. 0.], markersize = ax_size/20, color = :darkgreen)\n",
    "for i = 1:ntraj\n",
    "    Makie.lines!(scene, getindex.(trajs[i].xm,1), getindex.(trajs[i].vm,1), getindex.(trajs[i].am,1), color = :purple, alpha = 0.1, transparency = true)\n",
    "end\n",
    "\n",
    "Makie.xlabel!(scene, \"x\")\n",
    "Makie.ylabel!(scene, \"v\")\n",
    "Makie.zlabel!(scene, \"a\")\n",
    "axis = scene[Axis]\n",
    "axis.showaxis = false\n",
    "isdefined(Main, :no_plots) || display(scene)"
   ]
  },
  {
   "cell_type": "code",
   "execution_count": null,
   "metadata": {},
   "outputs": [],
   "source": [
    "function record_scene(scene, filename, iobs, N)\n",
    "    p = Progress(N)\n",
    "    record(scene, filename, 1:N) do i\n",
    "        iobs[] = i\n",
    "        isdefined(Main, :Test) || next!(p)\n",
    "    end\n",
    "    isdefined(Main, :Test) || display(\"text/html\", html_video(filename))\n",
    "end\n",
    "\n",
    "filename = \"R1ToR1Attractor_xva.mp4\"\n",
    "isdefined(Main, :no_plots) || record_scene(scene, filename, iobs, length(trajs[1].xm))"
   ]
  },
  {
   "cell_type": "markdown",
   "metadata": {},
   "source": [
    "### In (x, v) space"
   ]
  },
  {
   "cell_type": "code",
   "execution_count": null,
   "metadata": {},
   "outputs": [],
   "source": [
    "AbstractPlotting.inline!(false)\n",
    "fx(i) = [trajs[j].xm[i][1] for j = 1:ntraj]\n",
    "fy(i) = [trajs[j].vm[i][1] for j = 1:ntraj]\n",
    "iobs = Observable(1)\n",
    "\n",
    "ax_size, plot_size = 3, 500\n",
    "limits = FRect((-ax_size, -ax_size), (2*ax_size, 2*ax_size))\n",
    "scene = Scene(resolution = (plot_size, plot_size))\n",
    "Makie.scatter!(scene, lift(i -> fx(i), iobs), lift(i -> fy(i), iobs), markersize = ax_size/20, color = :blue, limits = limits)\n",
    "Makie.scatter!(scene, [0. 0.], markersize = ax_size/20, color = :darkgreen)\n",
    "for i = 1:ntraj\n",
    "    Makie.lines!(scene, getindex.(trajs[i].xm,1), getindex.(trajs[i].vm,1), color = :purple, alpha = 0.1, transparency = true)\n",
    "end\n",
    "\n",
    "Makie.xlabel!(scene, \"x\")\n",
    "Makie.ylabel!(scene, \"v\")\n",
    "axis = scene[Axis]\n",
    "axis.showaxis = false\n",
    "isdefined(Main, :no_plots) || display(scene)"
   ]
  },
  {
   "cell_type": "code",
   "execution_count": null,
   "metadata": {},
   "outputs": [],
   "source": [
    "filename = \"R1ToR1Attractor_xv.mp4\"\n",
    "isdefined(Main, :no_plots) || record_scene(scene, filename, iobs, length(trajs[1].xm))"
   ]
  },
  {
   "cell_type": "code",
   "execution_count": null,
   "metadata": {},
   "outputs": [],
   "source": []
  }
 ],
 "metadata": {
  "@webio": {
   "lastCommId": null,
   "lastKernelId": null
  },
  "kernelspec": {
   "display_name": "Julia 1.5.3",
   "language": "julia",
   "name": "julia-1.5"
  },
  "language_info": {
   "file_extension": ".jl",
   "mimetype": "application/julia",
   "name": "julia",
   "version": "1.5.3"
  }
 },
 "nbformat": 4,
 "nbformat_minor": 2
}
