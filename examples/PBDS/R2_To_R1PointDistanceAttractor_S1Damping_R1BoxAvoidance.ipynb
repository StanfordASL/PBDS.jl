{
 "cells": [
  {
   "cell_type": "markdown",
   "metadata": {},
   "source": [
    "## R2 To R1 Point Attractor, S1 Damping, R1 Box Avoidance"
   ]
  },
  {
   "cell_type": "code",
   "execution_count": null,
   "metadata": {
    "scrolled": true
   },
   "outputs": [],
   "source": [
    "using PBDS, StaticArrays, LinearAlgebra, GeometryBasics, Rotations, BenchmarkTools"
   ]
  },
  {
   "cell_type": "markdown",
   "metadata": {},
   "source": [
    "## Setup"
   ]
  },
  {
   "cell_type": "markdown",
   "metadata": {},
   "source": [
    "### Point Distance Attractor"
   ]
  },
  {
   "cell_type": "code",
   "execution_count": null,
   "metadata": {},
   "outputs": [],
   "source": [
    "PBDS.metric_chart(xn, task::Attractor{<:DistanceFromPoint{R2,R1}}, CN::Chart{1,R1}) = \n",
    "    default_metric(xn, task, CN)\n",
    "PBDS.potential_chart(xn, task::Attractor{<:DistanceFromPoint{R2,R1}}, CN::Chart{1,R1}) = xn[1]^2\n",
    "PBDS.dissipative_forces_chart(xn, vn, task::Attractor{<:DistanceFromPoint{R2,R1}}, CN::Chart{1,R1}) = \n",
    "    -3*vn\n",
    "PBDS.weight_metric_chart(xn, vn, task::Attractor{<:DistanceFromPoint{R2,R1}}, CN::Chart{1,R1}) = \n",
    "    default_weight_metric(xn, vn, task, CN)"
   ]
  },
  {
   "cell_type": "markdown",
   "metadata": {},
   "source": [
    "### Angular Damping Around Goal"
   ]
  },
  {
   "cell_type": "code",
   "execution_count": null,
   "metadata": {},
   "outputs": [],
   "source": [
    "PBDS.default_coord_rep(::Damping{<:AngularPositionAroundPoint{R2,S1}}) = EmbRep()\n",
    "PBDS.metric_emb(xne, task::Damping{<:AngularPositionAroundPoint{R2,S1}}) =\n",
    "    default_metric(xne, task)\n",
    "PBDS.potential_emb(xne, task::Damping{<:AngularPositionAroundPoint{R2,S1}}) = 0.\n",
    "PBDS.dissipative_forces_emb(xne, vne, task::Damping{<:AngularPositionAroundPoint{R2,S1}}) = -3*vne\n",
    "PBDS.weight_metric_emb(xne, vne, task::Damping{<:AngularPositionAroundPoint{R2,S1}}) =\n",
    "    default_weight_metric(xne, vne, task)"
   ]
  },
  {
   "cell_type": "markdown",
   "metadata": {},
   "source": [
    "### Box Avoidance"
   ]
  },
  {
   "cell_type": "code",
   "execution_count": null,
   "metadata": {},
   "outputs": [],
   "source": [
    "function PBDS.metric_chart(xn, task::CollisionAvoidance{<:DistanceSphereToBox{R2,R1}}, CN::Chart{1,R1})\n",
    "    ψx = exp(1.e1 / xn[1]^2)\n",
    "    G = SMatrix{1,1,eltype(xn)}([ψx])\n",
    "end\n",
    "PBDS.potential_chart(xn, task::CollisionAvoidance{<:DistanceSphereToBox{R2,R1}}, CN::Chart{1,R1}) = \n",
    "    0.\n",
    "PBDS.dissipative_forces_chart(xn, vn, task::CollisionAvoidance{<:DistanceSphereToBox{R2,R1}}, CN::Chart{1,R1}) =\n",
    "    0*vn\n",
    "function PBDS.weight_metric_chart(xn, vn, task::CollisionAvoidance{<:DistanceSphereToBox{R2,R1}}, CN::Chart{1,R1})\n",
    "    offset_distance = 5.\n",
    "    λ = (xn[1] < offset_distance && vn[1] < 0.) ? 1. : 0.\n",
    "    W = SMatrix{1,1,eltype(xn)}(I)*λ\n",
    "end"
   ]
  },
  {
   "cell_type": "code",
   "execution_count": null,
   "metadata": {},
   "outputs": [],
   "source": [
    "xm_goal = SA[-8., 3.]\n",
    "M = R2\n",
    "CM = Chart{1,M}()\n",
    "tasks, CNs = TaskList(), ChartList()\n",
    "\n",
    "N = R1\n",
    "push!(tasks, Attractor(DistanceFromPoint{M,N}(xm_goal)))\n",
    "push!(CNs, Chart{1,N}())\n",
    "\n",
    "N = S1\n",
    "push!(tasks, Damping(AngularPositionAroundPoint{M,N}(xm_goal)))\n",
    "push!(CNs, Chart{Angleπ,N}())\n",
    "\n",
    "avoid_radius = 0.2\n",
    "\n",
    "N = R1\n",
    "CN = Chart{1,N}()\n",
    "centers, widths, corners, rotations = [], [], [], []\n",
    "push!(centers, SA[-4., 1.])\n",
    "push!(widths, SA[3., 3.])\n",
    "push!(rotations, RotMatrix(Angle2d(pi/10)))\n",
    "push!(centers, SA[-1., 6.])\n",
    "push!(widths, SA[3., 4.])\n",
    "push!(rotations, RotMatrix(Angle2d(pi/3)))\n",
    "\n",
    "for i in 1:length(centers)\n",
    "    push!(corners, @. centers[i] - widths[i]/2)\n",
    "    push!(tasks, CollisionAvoidance(DistanceSphereToBox{M,N}(avoid_radius, Rect(Vec(corners[i]), Vec(widths[i])), rotations[i])))\n",
    "    push!(CNs, CN)\n",
    "end"
   ]
  },
  {
   "cell_type": "markdown",
   "metadata": {},
   "source": [
    "## Point Acceleration"
   ]
  },
  {
   "cell_type": "code",
   "execution_count": null,
   "metadata": {},
   "outputs": [],
   "source": [
    "# Initial state\n",
    "xm = SA[-1., -1.]\n",
    "vm = SA[-1., -1.]\n",
    "σxddot, = multiple_task_acceleration(xm, vm, tasks, CM, CNs)"
   ]
  },
  {
   "cell_type": "markdown",
   "metadata": {},
   "source": [
    "## Single Trajectory Test"
   ]
  },
  {
   "cell_type": "code",
   "execution_count": null,
   "metadata": {
    "scrolled": true
   },
   "outputs": [],
   "source": [
    "Time = 15\n",
    "dt = 0.05\n",
    "\n",
    "traj = propagate_tasks(xm, vm, tasks, CM, CNs, Time, dt)\n",
    "traj.xm[end]"
   ]
  },
  {
   "cell_type": "markdown",
   "metadata": {},
   "source": [
    "## Multiple Trajectories"
   ]
  },
  {
   "cell_type": "code",
   "execution_count": null,
   "metadata": {},
   "outputs": [],
   "source": [
    "using Makie, Observables, ProgressMeter, VectorizedRoutines"
   ]
  },
  {
   "cell_type": "code",
   "execution_count": null,
   "metadata": {},
   "outputs": [],
   "source": [
    "Time = 8\n",
    "dt = 0.01\n",
    "xlim, Δx = 1., 1.\n",
    "vlim, Δv = 2., 2.\n",
    "\n",
    "xm0 = Array{Any}(undef, 2)\n",
    "vm0 = Array{Any}(undef, 2)\n",
    "\n",
    "xm0[1], xm0[2] = Matlab.meshgrid(-xlim:Δx:xlim, -xlim:Δx:xlim)\n",
    "vm0[1], vm0[2] = Matlab.meshgrid(-vlim:Δv:vlim, -vlim:Δv:vlim)\n",
    "\n",
    "for a in (xm0, vm0), i in 1:2\n",
    "    a[i] = reshape(a[i], length(a[i]))\n",
    "end\n",
    "\n",
    "nx = length(xm0[1])\n",
    "nv = length(vm0[1])\n",
    "ix, iv = Matlab.meshgrid(1:nx, 1:nv)\n",
    "ix = reshape(ix, length(ix))\n",
    "iv = reshape(iv, length(iv))\n",
    "\n",
    "ntraj = nx*nv\n",
    "trajs = Array{Any}(undef, ntraj)\n",
    "xm0 = [xm0[1]'; xm0[2]']\n",
    "vm0 = [vm0[1]'; vm0[2]']\n",
    "p = Progress(ntraj)\n",
    "\n",
    "Threads.@threads for i in 1:ntraj\n",
    "    trajs[i] = propagate_tasks(SA[xm0[:,ix[i]]...], SA[vm0[:,iv[i]]...], tasks, CM, CNs, Time, dt)\n",
    "    isdefined(Main, :Test) || next!(p)\n",
    "end"
   ]
  },
  {
   "cell_type": "code",
   "execution_count": null,
   "metadata": {},
   "outputs": [],
   "source": [
    "fxx(i) = [trajs[j].xm[i][1] for j = 1:ntraj]\n",
    "fxy(i) = [trajs[j].xm[i][2] for j = 1:ntraj]\n",
    "iobs = Observable(1)\n",
    "\n",
    "ax_size, plot_size = 6, 500\n",
    "limits = FRect((-ax_size-4, -ax_size+2), (2*ax_size, 2*ax_size))\n",
    "scene = Scene(resolution = (plot_size, plot_size))\n",
    "for i in 1:length(centers)\n",
    "    rect = Makie.poly!(scene, Rect(Vec(-widths[i]./2), Vec(widths[i])), strokecolor = :black, strokewidth=1.5, color = :orange)\n",
    "    Makie.rotate!(scene[end], Angle2d(rotations[i]).theta)\n",
    "    Makie.translate!(scene[end], centers[i])\n",
    "end\n",
    "Makie.scatter!(scene, xm_goal', markersize = ax_size/20, color = :darkgreen)\n",
    "\n",
    "for i = 1:ntraj\n",
    "    Makie.lines!(scene, getindex.(trajs[i].xm,1), getindex.(trajs[i].xm,2), color = :purple)\n",
    "end\n",
    "Makie.scatter!(scene, lift(i -> fxx(i), iobs), lift(i -> fxy(i), iobs), markersize = ax_size/20, color = :blue, limits = limits)\n",
    "\n",
    "Makie.xlabel!(scene, \"x\")\n",
    "Makie.ylabel!(scene, \"y\")\n",
    "axis = scene[Axis]\n",
    "axis.showaxis = false\n",
    "isdefined(Main, :no_plots) || display(scene)"
   ]
  },
  {
   "cell_type": "code",
   "execution_count": null,
   "metadata": {},
   "outputs": [],
   "source": [
    "function record_scene(scene, filename, iobs, N)\n",
    "    p = Progress(N)\n",
    "    record(scene, filename, 1:N) do i\n",
    "        iobs[] = i\n",
    "        isdefined(Main, :Test) || next!(p)\n",
    "    end\n",
    "    isdefined(Main, :Test) || display(\"text/html\", html_video(filename))\n",
    "end\n",
    "\n",
    "filename = \"R2_To_R1PointDistanceAttractor_S1Damping_R1BoxAvoidance.mp4\"\n",
    "isdefined(Main, :no_plots) || record_scene(scene, filename, iobs, length(trajs[1].xm))"
   ]
  },
  {
   "cell_type": "code",
   "execution_count": null,
   "metadata": {},
   "outputs": [],
   "source": []
  }
 ],
 "metadata": {
  "@webio": {
   "lastCommId": null,
   "lastKernelId": null
  },
  "kernelspec": {
   "display_name": "Julia 1.5.3",
   "language": "julia",
   "name": "julia-1.5"
  },
  "language_info": {
   "file_extension": ".jl",
   "mimetype": "application/julia",
   "name": "julia",
   "version": "1.5.3"
  }
 },
 "nbformat": 4,
 "nbformat_minor": 2
}
