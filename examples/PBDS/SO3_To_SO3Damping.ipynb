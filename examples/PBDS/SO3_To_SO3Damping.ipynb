{
 "cells": [
  {
   "cell_type": "markdown",
   "metadata": {},
   "source": [
    "# SO3 to SO3 Damping"
   ]
  },
  {
   "cell_type": "code",
   "execution_count": null,
   "metadata": {},
   "outputs": [],
   "source": [
    "using PBDS, StaticArrays, LinearAlgebra, BenchmarkTools, Rotations, Random"
   ]
  },
  {
   "cell_type": "markdown",
   "metadata": {},
   "source": [
    "## Setup"
   ]
  },
  {
   "cell_type": "markdown",
   "metadata": {},
   "source": [
    "### SO3 Damping"
   ]
  },
  {
   "cell_type": "code",
   "execution_count": null,
   "metadata": {},
   "outputs": [],
   "source": [
    "PBDS.default_coord_rep(::Damping{<:Identity{SO3,SO3}}) = ChartRep()\n",
    "PBDS.metric_chart(xn, task::Damping{<:Identity{SO3,SO3}}, CN::Chart{ExpMap0,SO3}) =\n",
    "    default_metric(xn, task, CN)\n",
    "PBDS.potential_chart(xn, task::Damping{<:Identity{SO3,SO3}}, CN::Chart{<:ExpMap,SO3}) = 0.\n",
    "\n",
    "function PBDS.dissipative_forces_chart(xn, vn, task::Damping{<:Identity{SO3,SO3}}, CN::Chart{<:ExpMap,SO3})\n",
    "    xne, vne = chart_to_emb_differential(xn, vn, CN)\n",
    "    Fne = -vne\n",
    "    ∂xne_∂xn = chart_to_emb_jacobian(xn, CN)\n",
    "    Fn = ∂xne_∂xn'*Fne\n",
    "end\n",
    "PBDS.weight_metric_chart(xn, vn, task::Damping{<:Identity{SO3,SO3}}, CN::Chart{ExpMap0,SO3}) =\n",
    "    default_weight_metric(xn, vn, task, CN)\n",
    "PBDS.home_task_chart(task::Damping{<:Identity{SO3,SO3}}, CN::Chart{<:ExpMap,SO3}) = Chart{ExpMap0,SO3}()"
   ]
  },
  {
   "cell_type": "markdown",
   "metadata": {},
   "source": [
    "## Point Acceleration"
   ]
  },
  {
   "cell_type": "code",
   "execution_count": null,
   "metadata": {},
   "outputs": [],
   "source": [
    "# Initial state\n",
    "skew(w) = SA[0.   -w[3]  w[2]\n",
    "             w[3]  0.   -w[1]\n",
    "            -w[2]  w[1]  0.]\n",
    "\n",
    "Random.seed!(8)\n",
    "R = rand(RotMatrix{3}).mat\n",
    "ω = R*SA[0.,0.,100.]\n",
    "xme = reshape(R, Size(9))\n",
    "vme = reshape(skew(ω)*R, Size(9))\n",
    "\n",
    "C0 = Chart{PBDS.ExpMap0,SO3}()\n",
    "\n",
    "M = SO3\n",
    "tasks, CNs = TaskList(), ChartList()\n",
    "\n",
    "N = SO3\n",
    "CN = choose_chart_emb(xme, C0)\n",
    "# CN = Chart{ExpMap0,N}()\n",
    "push!(tasks, Damping(Identity{M,N,Float64}()))\n",
    "push!(CNs, CN)\n",
    "\n",
    "CM = CN\n",
    "robot_coord_rep = EmbRep()\n",
    "σxddot, = multiple_task_acceleration(xme, vme, tasks, CM, CNs, robot_coord_rep)"
   ]
  },
  {
   "cell_type": "markdown",
   "metadata": {},
   "source": [
    "## Single Trajectory"
   ]
  },
  {
   "cell_type": "code",
   "execution_count": null,
   "metadata": {},
   "outputs": [],
   "source": [
    "using Plots, Makie, Observables, ProgressMeter"
   ]
  },
  {
   "cell_type": "code",
   "execution_count": null,
   "metadata": {
    "scrolled": true
   },
   "outputs": [],
   "source": [
    "Time = 4\n",
    "dt = 0.01\n",
    "\n",
    "traj = propagate_tasks(xme, vme, tasks, CM, CNs, Time, dt, robot_coord_rep, log_tasks=true)\n",
    "traj.vm[end]"
   ]
  },
  {
   "cell_type": "code",
   "execution_count": null,
   "metadata": {},
   "outputs": [],
   "source": [
    "function frot(i)\n",
    "    q = UnitQuaternion(RotMatrix(traj.xm[i]))\n",
    "    qrot = Quaternion(q.x, q.y, q.z, q.w)\n",
    "end\n",
    "\n",
    "iobs = Observable(1)\n",
    "ax_size, plot_size = 2, 800\n",
    "limits = FRect3D((-ax_size, -ax_size, -ax_size), (2*ax_size, 2*ax_size, 2*ax_size))\n",
    "scene = Scene(resolution = (plot_size, plot_size))\n",
    "widths = SA[1.,2.,3.]\n",
    "rect = Rect(Vec(-widths./2), Vec(widths))\n",
    "rect_mesh = mesh!(scene, rect, color = :orange; limits)\n",
    "Makie.rotate!(rect_mesh[end], frot(1))\n",
    "\n",
    "axis = scene[Axis]\n",
    "axis.showaxis = false\n",
    "display(scene)"
   ]
  },
  {
   "cell_type": "code",
   "execution_count": null,
   "metadata": {},
   "outputs": [],
   "source": [
    "function record_scene(scene, filename, iobs, N, framerate=60)\n",
    "    p = Progress(N)\n",
    "    record(scene, filename, 1:N) do i\n",
    "        Makie.rotate!(rect_mesh[end], frot(i))\n",
    "        next!(p)\n",
    "    end\n",
    "    display(\"text/html\", html_video(filename))\n",
    "end\n",
    "\n",
    "filename = \"SO3ToSO3_Damping.mp4\"\n",
    "record_scene(scene, filename, iobs, length(traj.xm))"
   ]
  },
  {
   "cell_type": "code",
   "execution_count": null,
   "metadata": {},
   "outputs": [],
   "source": [
    "C0 = Chart{ExpMap0,SO3}()\n",
    "Cx = Chart{ExpMapX,SO3}()\n",
    "Cy = Chart{ExpMapY,SO3}()\n",
    "Cz = Chart{ExpMapZ,SO3}()"
   ]
  },
  {
   "cell_type": "code",
   "execution_count": null,
   "metadata": {},
   "outputs": [],
   "source": [
    "ω_axes, cs = [], []\n",
    "for i in 1:length(traj.xm)\n",
    "    xm_test = traj.xm[i]\n",
    "    vm_test = traj.vm[i]\n",
    "    R_test = reshape(xm_test, Size(3,3))\n",
    "    Rdot_test = reshape(vm_test, Size(3,3))\n",
    "    ωskew_test = Rdot_test*R_test'\n",
    "    ω_test = PBDS.unskew(ωskew_test)\n",
    "    ωmag = norm(ω_test)\n",
    "    ω_axis = ωmag > 0 ? ω_test/ωmag : (@SVector zeros(3))\n",
    "    push!(ω_axes, ω_test/norm(ω_test))\n",
    "    C = traj.CM[i]\n",
    "    C == C0 && push!(cs, -0.1)\n",
    "    C == Cx && push!(cs, 0.)\n",
    "    C == Cy && push!(cs, 0.1)\n",
    "    C == Cz && push!(cs, 0.2)\n",
    "end"
   ]
  },
  {
   "cell_type": "code",
   "execution_count": null,
   "metadata": {},
   "outputs": [],
   "source": [
    "using Plots\n",
    "scene = Plots.plot(getindex.(ω_axes,1), lab = \"Spin axis x\")\n",
    "Plots.plot!(scene, getindex.(ω_axes,2), lab = \"Spin axis y\")\n",
    "Plots.plot!(scene, getindex.(ω_axes,3), lab = \"Spin axis z\")\n",
    "Plots.plot!(scene, cs; legend=:outerright, lab = \"Chart\")"
   ]
  },
  {
   "cell_type": "code",
   "execution_count": null,
   "metadata": {},
   "outputs": [],
   "source": []
  }
 ],
 "metadata": {
  "@webio": {
   "lastCommId": null,
   "lastKernelId": null
  },
  "kernelspec": {
   "display_name": "Julia 1.5.3",
   "language": "julia",
   "name": "julia-1.5"
  },
  "language_info": {
   "file_extension": ".jl",
   "mimetype": "application/julia",
   "name": "julia",
   "version": "1.5.3"
  }
 },
 "nbformat": 4,
 "nbformat_minor": 2
}
