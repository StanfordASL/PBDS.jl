{
 "cells": [
  {
   "cell_type": "markdown",
   "metadata": {},
   "source": [
    "## S2 To R1 Attractor + R1 Obstacle Avoidance"
   ]
  },
  {
   "cell_type": "code",
   "execution_count": null,
   "metadata": {
    "scrolled": false
   },
   "outputs": [],
   "source": [
    "using PBDS, StaticArrays, LinearAlgebra, GeometryBasics, Rotations, BenchmarkTools"
   ]
  },
  {
   "cell_type": "markdown",
   "metadata": {},
   "source": [
    "## Setup"
   ]
  },
  {
   "cell_type": "markdown",
   "metadata": {},
   "source": [
    "### Point Attractor"
   ]
  },
  {
   "cell_type": "code",
   "execution_count": null,
   "metadata": {},
   "outputs": [],
   "source": [
    "PBDS.task_map_emb(::EmbRep, ::EmbRep, xme, task_map::DistanceFromPoint{S2,R1}) = SA[norm(xme - task_map.position_center)]\n",
    "PBDS.domain_coord_rep(::DistanceFromPoint{S2,R1}) = EmbRep()\n",
    "\n",
    "PBDS.metric_chart(xn, task::Attractor{<:DistanceFromPoint{S2,R1}}, CN::Chart{1,R1}) = \n",
    "    default_metric(xn, task, CN)\n",
    "PBDS.potential_chart(xn, task::Attractor{<:DistanceFromPoint{S2,R1}}, CN::Chart{1,R1}) = xn[1]^2\n",
    "PBDS.dissipative_forces_chart(xn, vn, task::Attractor{<:DistanceFromPoint{S2,R1}}, CN::Chart{1,R1}) = 0*vn\n",
    "PBDS.weight_metric_chart(xn, vn, task::Attractor{<:DistanceFromPoint{S2,R1}}, CN::Chart{1,R1}) = \n",
    "    default_weight_metric(xn, vn, task, CN)"
   ]
  },
  {
   "cell_type": "markdown",
   "metadata": {},
   "source": [
    "### Sphere Damping"
   ]
  },
  {
   "cell_type": "code",
   "execution_count": null,
   "metadata": {},
   "outputs": [],
   "source": [
    "PBDS.default_coord_rep(::Damping{<:Identity{S2,S2}}) = EmbRep()\n",
    "PBDS.metric_emb(xne, task::Damping{<:Identity{S2,S2}}) =\n",
    "    default_metric(xne, task)\n",
    "PBDS.potential_emb(xne, task::Damping{<:Identity{S2,S2}}) = 0.\n",
    "PBDS.dissipative_forces_emb(xne, vne, task::Damping{<:Identity{S2,S2}}) = -4*vne\n",
    "PBDS.weight_metric_emb(xne, vne, task::Damping{<:Identity{S2,S2}}) =\n",
    "    default_weight_metric(xne, vne, task)\n",
    "PBDS.home_task_chart(task::Damping{<:Identity{S2,S2}}) = Chart{SterProjSouth,S2}()"
   ]
  },
  {
   "cell_type": "markdown",
   "metadata": {},
   "source": [
    "### Sphere Avoidance"
   ]
  },
  {
   "cell_type": "code",
   "execution_count": null,
   "metadata": {},
   "outputs": [],
   "source": [
    "PBDS.domain_coord_rep(::DistanceFromSphereSurface{S2,R1}) = EmbRep()\n",
    "PBDS.task_map_emb(::EmbRep, ::EmbRep, xme, task_map::DistanceFromSphereSurface{S2,R1}) =\n",
    "    SA[abs(norm(xme - task_map.center) - task_map.radius)]\n",
    "\n",
    "function PBDS.metric_chart(xn, task::CollisionAvoidance{<:DistanceFromSphereSurface{S2,R1}}, CN::Chart{1,R1})\n",
    "    ψx = exp(1.e0 / xn[1]^2)\n",
    "    G = SMatrix{1,1,eltype(xn)}([ψx])\n",
    "end\n",
    "PBDS.potential_chart(xn, task::CollisionAvoidance{<:DistanceFromSphereSurface{S2,R1}}, CN::Chart{1,R1}) = 0.\n",
    "PBDS.dissipative_forces_chart(xn, vn, task::CollisionAvoidance{<:DistanceFromSphereSurface{S2,R1}}, CN::Chart{1,R1}) = 0*vn\n",
    "function PBDS.weight_metric_chart(xn, vn, task::CollisionAvoidance{<:DistanceFromSphereSurface{S2,R1}}, CN::Chart{1,R1})\n",
    "    offset_distance = 5.\n",
    "    λ = (xn[1] < offset_distance && vn[1] < 0.) ? 1. : 0.\n",
    "    W = SMatrix{1,1,eltype(xn)}(I)*λ\n",
    "end"
   ]
  },
  {
   "cell_type": "code",
   "execution_count": null,
   "metadata": {},
   "outputs": [],
   "source": [
    "M = S2\n",
    "CM = Chart{SterProjNorth,S2}()\n",
    "tasks, CNs = TaskList(), ChartList()\n",
    "\n",
    "N = R1\n",
    "CN = Chart{1,N}()\n",
    "xm_goal = SA[1., -1., -1.]\n",
    "xm_goal = xm_goal ./ norm(xm_goal)\n",
    "push!(tasks, Attractor(DistanceFromPoint{M,N}(xm_goal)))\n",
    "push!(CNs, CN)\n",
    "\n",
    "N = S2\n",
    "CN = Chart{SterProjSouth,S2}()\n",
    "push!(tasks, Damping(Identity{M,N,Float64}()))\n",
    "push!(CNs, CN)\n",
    "\n",
    "N = R1\n",
    "CN = Chart{1,N}()\n",
    "obs_centers = []\n",
    "obs_radii = []\n",
    "\n",
    "push!(obs_centers, SA[1., 1.2, 0.8])\n",
    "push!(obs_radii, 0.4)\n",
    "\n",
    "push!(obs_centers, SA[-0.2, 0.2, 1.])\n",
    "push!(obs_radii, 0.3)\n",
    "\n",
    "push!(obs_centers, SA[0.2, -0.2, -1.])\n",
    "push!(obs_radii, 0.3)\n",
    "\n",
    "push!(obs_centers, SA[-1.2, 1., -0.8])\n",
    "push!(obs_radii, 0.4)\n",
    "\n",
    "push!(obs_centers, SA[-1.2, -0.9, -0.1])\n",
    "push!(obs_radii, 0.3)\n",
    "\n",
    "for i in 1:length(obs_centers)\n",
    "    obs_centers[i] = (obs_centers[i] / norm(obs_centers[i])) * (1. - obs_radii[i]/2)\n",
    "    push!(tasks, CollisionAvoidance(DistanceFromSphereSurface{M,N}(obs_centers[i], obs_radii[i])))\n",
    "    push!(CNs, CN)\n",
    "end"
   ]
  },
  {
   "cell_type": "code",
   "execution_count": null,
   "metadata": {},
   "outputs": [],
   "source": [
    "# Initial state\n",
    "xme = SA[-1., 1., 1.]\n",
    "xme = xme ./ norm(xme)\n",
    "vme = SA[2., 1., 1.]\n",
    "\n",
    "robot_coord_rep = EmbRep()\n",
    "σxddot, = multiple_task_acceleration(xme, vme, tasks, CM, CNs, robot_coord_rep)"
   ]
  },
  {
   "cell_type": "markdown",
   "metadata": {},
   "source": [
    "## Single Trajectory"
   ]
  },
  {
   "cell_type": "code",
   "execution_count": null,
   "metadata": {},
   "outputs": [],
   "source": [
    "using Plots, Makie, Observables, ProgressMeter, ColorSchemes"
   ]
  },
  {
   "cell_type": "code",
   "execution_count": null,
   "metadata": {},
   "outputs": [],
   "source": [
    "Time = 40\n",
    "dt = 0.01\n",
    "\n",
    "PBDS.choose_chart_emb(::EmbRep, pe, ::Chart{<:SterProj,S2}) = Chart{SterProjNorth,S2}()\n",
    "traj_north = propagate_tasks(xme, vme, tasks, CM, CNs, Time, dt, robot_coord_rep, log_tasks = true)\n",
    "\n",
    "PBDS.choose_chart_emb(::EmbRep, pe, ::Chart{<:SterProj,S2}) = Chart{SterProjSouth,S2}()\n",
    "traj_south = propagate_tasks(xme, vme, tasks, CM, CNs, Time, dt, robot_coord_rep, log_tasks = true)\n",
    "\n",
    "PBDS.choose_chart_emb(::EmbRep, pe, ::Chart{<:SterProj,S2}) =\n",
    "    (pe[3] < 0)[1] ? Chart{SterProjSouth,S2}() : Chart{SterProjNorth,S2}()\n",
    "traj_switching = propagate_tasks(xme, vme, tasks, CM, CNs, Time, dt, robot_coord_rep, log_tasks = true)\n",
    "traj_switching.xm[end]"
   ]
  },
  {
   "cell_type": "code",
   "execution_count": null,
   "metadata": {},
   "outputs": [],
   "source": [
    "Nplot = length(traj_switching.xm)\n",
    "if !isdefined(Main, :no_plots)\n",
    "    Plots.plot(getindex.(traj_switching.xm,1)[1:Nplot])\n",
    "    Plots.plot!(getindex.(traj_switching.xm,2)[1:Nplot])\n",
    "    Plots.plot!(getindex.(traj_switching.xm,3)[1:Nplot])\n",
    "end"
   ]
  },
  {
   "cell_type": "code",
   "execution_count": null,
   "metadata": {},
   "outputs": [],
   "source": [
    "ax_size, plot_size = 1, 800\n",
    "scene = Scene(resolution = (plot_size, plot_size))\n",
    "mesh!(Sphere(Point3(zeros(3)), 1.), color = RGBA(1.,1.,1.,0.7), transparency = true)\n",
    "for i in 1:length(obs_centers)\n",
    "    mesh!(Sphere(Point3(obs_centers[i]...), obs_radii[i]), color = RGBA(0.,1.,0.,0.4), transparency = true)\n",
    "end\n",
    "Makie.scatter!(scene, [xme[1]], [xme[2]], [xme[3]], markersize = ax_size/20, color = :blue)\n",
    "δ = 0.99\n",
    "Makie.scatter!(scene, [xm_goal[1]*δ], [xm_goal[2]*δ], [xm_goal[3]*δ], markersize = ax_size/20, color = :green)\n",
    "\n",
    "linewidth = 1.5\n",
    "Makie.lines!(scene, getindex.(traj_switching.xm,1), getindex.(traj_switching.xm,2), getindex.(traj_switching.xm,3), color = :purple, linewidth = linewidth)\n",
    "Makie.lines!(scene, getindex.(traj_south.xm,1), getindex.(traj_south.xm,2), getindex.(traj_south.xm,3), color = :red, linewidth = linewidth)\n",
    "Makie.lines!(scene, getindex.(traj_north.xm,1), getindex.(traj_north.xm,2), getindex.(traj_north.xm,3), color = :blue, linewidth = linewidth)\n",
    "\n",
    "Makie.xlims!(scene, (-ax_size, ax_size))\n",
    "Makie.ylims!(scene, (-ax_size, ax_size))\n",
    "Makie.zlims!(scene, (-ax_size, ax_size))\n",
    "axis = scene[Axis]\n",
    "axis.showaxis = false\n",
    "rotate_cam!(scene, 0.4, 0., 0.)\n",
    "isdefined(Main, :no_plots) || display(scene)"
   ]
  },
  {
   "cell_type": "markdown",
   "metadata": {},
   "source": [
    "## Multiple Trajectories"
   ]
  },
  {
   "cell_type": "code",
   "execution_count": null,
   "metadata": {},
   "outputs": [],
   "source": [
    "Time = 18\n",
    "dt = 0.05\n",
    "\n",
    "θ = collect(0:π/25:2π)\n",
    "ntraj = length(θ) - 1\n",
    "\n",
    "vm_gen = []\n",
    "for i in 1:ntraj\n",
    "    R = AngleAxis(θ[i], xme...)\n",
    "    push!(vm_gen, R*vme)\n",
    "end\n",
    "\n",
    "trajs = Array{Any}(undef, ntraj)\n",
    "p = Progress(ntraj)\n",
    "\n",
    "Threads.@threads for i in 1:ntraj\n",
    "    trajs[i] = propagate_tasks(xme, vm_gen[i], tasks, CM, CNs, Time, dt, robot_coord_rep)\n",
    "    isdefined(Main, :Test) || next!(p)\n",
    "end"
   ]
  },
  {
   "cell_type": "code",
   "execution_count": null,
   "metadata": {},
   "outputs": [],
   "source": [
    "iobs = Observable(1)\n",
    "\n",
    "ax_size, plot_size = 1, 800\n",
    "limits = FRect3D((-ax_size, -ax_size, -ax_size), (2*ax_size, 2*ax_size, 2*ax_size))\n",
    "scene = Scene(resolution = (plot_size, plot_size))\n",
    "\n",
    "mesh!(Sphere(Point3(zeros(3)), 1.), color = RGBA(1.,1.,1.,0.0))\n",
    "for i in 1:length(obs_centers)\n",
    "    color = RGBA(0.95,0.6,0.3,1.) # Orange\n",
    "    mesh!(Sphere(Point3(obs_centers[i]...), obs_radii[i]), shininess = 8.0f0, specular = Vec3f0(0.15); color)\n",
    "end\n",
    "for i = 1:ntraj\n",
    "    color = get(ColorSchemes.vikO, θ[i]/(2π))\n",
    "    Makie.lines!(scene, getindex.(trajs[i].xm,1), getindex.(trajs[i].xm,2), getindex.(trajs[i].xm,3); color, linewidth = 2)\n",
    "    Makie.scatter!(scene, lift(j -> [trajs[i].xm[j][1]], iobs), lift(j -> [trajs[i].xm[j][2]], iobs), lift(j -> [trajs[i].xm[j][3]], iobs), markersize = ax_size/20; color)\n",
    "end\n",
    "Makie.scatter!(scene, [xm_goal[1]*δ], [xm_goal[2]*δ], [xm_goal[3]*δ], markersize = ax_size/15, color = :green)\n",
    "\n",
    "Makie.xlabel!(scene, \"x\")\n",
    "Makie.ylabel!(scene, \"y\")\n",
    "axis = scene[Axis]\n",
    "axis.showaxis = false\n",
    "rotate_cam!(scene, 0.4, 0., 0.)\n",
    "isdefined(Main, :no_plots) || display(scene)"
   ]
  },
  {
   "cell_type": "code",
   "execution_count": null,
   "metadata": {},
   "outputs": [],
   "source": [
    "function record_scene(scene, filename, iobs, N, framerate=60)\n",
    "    p = Progress(N)\n",
    "    record(scene, filename, 1:N) do i\n",
    "        iobs[] = i\n",
    "        rotate_cam!(scene, 0.015, 0., 0.)\n",
    "        isdefined(Main, :Test) || next!(p)\n",
    "    end\n",
    "    isdefined(Main, :Test) || display(\"text/html\", html_video(filename))\n",
    "end\n",
    "\n",
    "filename = \"S2_To_R1Attractor_S2Damping_R1ObstacleAvoidance.mp4\"\n",
    "isdefined(Main, :no_plots) || record_scene(scene, filename, iobs, length(trajs[1].xm))"
   ]
  },
  {
   "cell_type": "code",
   "execution_count": null,
   "metadata": {
    "scrolled": true
   },
   "outputs": [],
   "source": [
    "iobs = Observable(1)\n",
    "scene = Scene(resolution = (plot_size, plot_size))\n",
    "\n",
    "mesh!(Sphere(Point3(zeros(3)), 1.), color = RGBA(1.,1.,1.,0.0))\n",
    "for i in 1:length(obs_centers)\n",
    "    color = RGBA(0.95,0.6,0.3,1.) # Orange\n",
    "    mesh!(Sphere(Point3(obs_centers[i]...), obs_radii[i]), shininess = 8.0f0, specular = Vec3f0(0.15); color)\n",
    "end\n",
    "N = length(trajs[1].xm)\n",
    "for i = 1:ntraj\n",
    "    color = get(ColorSchemes.vikO, θ[i]/(2π))\n",
    "    Makie.lines!(scene, getindex.(trajs[i].xm,1), getindex.(trajs[i].xm,2), getindex.(trajs[i].xm,3); color, linewidth = 2)\n",
    "    Makie.scatter!(scene, lift(j -> [trajs[i].xm[mod(j-1,N)+1][1]], iobs), lift(j -> [trajs[i].xm[mod(j-1,N)+1][2]], iobs), lift(j -> [trajs[i].xm[mod(j-1,N)+1][3]], iobs), markersize = ax_size/20; color)\n",
    "end\n",
    "Makie.scatter!(scene, [xm_goal[1]*δ], [xm_goal[2]*δ], [xm_goal[3]*δ], markersize = ax_size/15, color = :green)\n",
    "\n",
    "Makie.xlabel!(scene, \"x\")\n",
    "Makie.ylabel!(scene, \"y\")\n",
    "axis = scene[Axis]\n",
    "axis.showaxis = false\n",
    "rotate_cam!(scene, 0.4, 0., 0.)\n",
    "isdefined(Main, :no_plots) || display(scene)"
   ]
  },
  {
   "cell_type": "code",
   "execution_count": null,
   "metadata": {},
   "outputs": [],
   "source": [
    "filename = \"S2_To_R1Attractor_S2Damping_R1ObstacleAvoidance_repeated.mp4\"\n",
    "isdefined(Main, :no_plots) || record_scene(scene, filename, iobs, 2*length(trajs[1].xm))"
   ]
  },
  {
   "cell_type": "code",
   "execution_count": null,
   "metadata": {},
   "outputs": [],
   "source": []
  }
 ],
 "metadata": {
  "@webio": {
   "lastCommId": null,
   "lastKernelId": null
  },
  "kernelspec": {
   "display_name": "Julia 1.5.3",
   "language": "julia",
   "name": "julia-1.5"
  },
  "language_info": {
   "file_extension": ".jl",
   "mimetype": "application/julia",
   "name": "julia",
   "version": "1.5.3"
  }
 },
 "nbformat": 4,
 "nbformat_minor": 2
}
