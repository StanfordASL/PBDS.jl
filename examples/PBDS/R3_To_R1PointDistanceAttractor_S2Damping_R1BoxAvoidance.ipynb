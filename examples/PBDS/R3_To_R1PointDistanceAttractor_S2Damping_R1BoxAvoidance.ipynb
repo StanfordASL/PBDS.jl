{
 "cells": [
  {
   "cell_type": "markdown",
   "metadata": {},
   "source": [
    "## R3 To R1 Point Attractor, S2 Damping, R1 Box Avoidance"
   ]
  },
  {
   "cell_type": "code",
   "execution_count": null,
   "metadata": {
    "scrolled": false
   },
   "outputs": [],
   "source": [
    "using PBDS, StaticArrays, LinearAlgebra, GeometryBasics, Rotations, BenchmarkTools"
   ]
  },
  {
   "cell_type": "markdown",
   "metadata": {},
   "source": [
    "## Setup"
   ]
  },
  {
   "cell_type": "markdown",
   "metadata": {},
   "source": [
    "### Point Distance Attractor"
   ]
  },
  {
   "cell_type": "code",
   "execution_count": null,
   "metadata": {},
   "outputs": [],
   "source": [
    "PBDS.metric_chart(xn, task::Attractor{<:DistanceFromPoint{R3,R1}}, CN::Chart{1,R1}) = \n",
    "    default_metric(xn, task, CN)\n",
    "PBDS.potential_chart(xn, task::Attractor{<:DistanceFromPoint{R3,R1}}, CN::Chart{1,R1}) = xn[1]^2\n",
    "PBDS.dissipative_forces_chart(xn, vn, task::Attractor{<:DistanceFromPoint{R3,R1}}, CN::Chart{1,R1}) =  -5*vn\n",
    "PBDS.weight_metric_chart(xn, vn, task::Attractor{<:DistanceFromPoint{R3,R1}}, CN::Chart{1,R1}) = \n",
    "    default_weight_metric(xn, vn, task, CN)"
   ]
  },
  {
   "cell_type": "markdown",
   "metadata": {},
   "source": [
    "### Angular Damping Around Goal"
   ]
  },
  {
   "cell_type": "code",
   "execution_count": null,
   "metadata": {},
   "outputs": [],
   "source": [
    "PBDS.default_coord_rep(::Damping{<:AngularPositionAroundPoint{R3,S2}}) = EmbRep()\n",
    "PBDS.metric_emb(xne, task::Damping{<:AngularPositionAroundPoint{R3,S2}}) =\n",
    "    default_metric(xne, task)\n",
    "PBDS.potential_emb(xne, task::Damping{<:AngularPositionAroundPoint{R3,S2}}) = 0.\n",
    "PBDS.dissipative_forces_emb(xne, vne, task::Damping{<:AngularPositionAroundPoint{R3,S2}}) = -2*vne\n",
    "PBDS.weight_metric_emb(xne, vne, task::Damping{<:AngularPositionAroundPoint{R3,S2}}) =\n",
    "    default_weight_metric(xne, vne, task)"
   ]
  },
  {
   "cell_type": "markdown",
   "metadata": {},
   "source": [
    "### Box Avoidance"
   ]
  },
  {
   "cell_type": "code",
   "execution_count": null,
   "metadata": {},
   "outputs": [],
   "source": [
    "function PBDS.metric_chart(xn, task::CollisionAvoidance{<:DistanceSphereToBox{R3,R1}}, CN::Chart{1,R1})\n",
    "    ψx = exp(1.e0 / xn[1]^2)\n",
    "    G = SMatrix{1,1,eltype(xn)}([ψx])\n",
    "end\n",
    "PBDS.potential_chart(xn, task::CollisionAvoidance{<:DistanceSphereToBox{R3,R1}}, CN::Chart{1,R1}) = 0.\n",
    "PBDS.dissipative_forces_chart(xn, vn, task::CollisionAvoidance{<:DistanceSphereToBox{R3,R1}}, CN::Chart{1,R1}) = 0*vn\n",
    "function PBDS.weight_metric_chart(xn, vn, task::CollisionAvoidance{<:DistanceSphereToBox{R3,R1}}, CN::Chart{1,R1})\n",
    "    offset_distance = 5.\n",
    "    λ = (xn[1] < offset_distance && vn[1] < 0.) ? 1. : 0.\n",
    "    W = SMatrix{1,1,eltype(xn)}(I)*λ\n",
    "end"
   ]
  },
  {
   "cell_type": "code",
   "execution_count": null,
   "metadata": {},
   "outputs": [],
   "source": [
    "xm_goal = SA[-6., 6., 0.]\n",
    "M = R3\n",
    "CM = Chart{1,M}()\n",
    "tasks, CNs = TaskList(), ChartList()\n",
    "\n",
    "N = R1\n",
    "push!(tasks, Attractor(DistanceFromPoint{M,N}(xm_goal)))\n",
    "push!(CNs, Chart{1,N}())\n",
    "\n",
    "N = S2\n",
    "push!(tasks, Damping(AngularPositionAroundPoint{M,N}(xm_goal)))\n",
    "push!(CNs, Chart{SterProjSouth,N}())\n",
    "\n",
    "N = R1\n",
    "CN = Chart{1,N}()\n",
    "radius = 0.5\n",
    "center = SA[-3., 3., 0.]\n",
    "rec_widths = SA[3., 3., 2.]\n",
    "corner = @. center - rec_widths/2\n",
    "rotation = RotXYZ(0.5, 0.5, 0.5)\n",
    "push!(tasks, CollisionAvoidance(DistanceSphereToBox{M,N}(radius, Rect(Vec(corner), Vec(rec_widths)), rotation)))\n",
    "push!(CNs, CN)"
   ]
  },
  {
   "cell_type": "markdown",
   "metadata": {},
   "source": [
    "## Point Acceleration"
   ]
  },
  {
   "cell_type": "code",
   "execution_count": null,
   "metadata": {},
   "outputs": [],
   "source": [
    "# Initial state\n",
    "xm = SA[3., 4., 0.]\n",
    "vm = SA[1., 1., 0.]\n",
    "σxddot, = multiple_task_acceleration(xm, vm, tasks, CM, CNs)"
   ]
  },
  {
   "cell_type": "markdown",
   "metadata": {},
   "source": [
    "## Single Trajectory Test"
   ]
  },
  {
   "cell_type": "code",
   "execution_count": null,
   "metadata": {
    "scrolled": true
   },
   "outputs": [],
   "source": [
    "Time = 10\n",
    "dt = 0.01\n",
    "\n",
    "traj = propagate_tasks(xm, vm, tasks, CM, CNs, Time, dt)\n",
    "traj.xm[end]"
   ]
  },
  {
   "cell_type": "markdown",
   "metadata": {},
   "source": [
    "## Multiple Trajectories"
   ]
  },
  {
   "cell_type": "code",
   "execution_count": null,
   "metadata": {},
   "outputs": [],
   "source": [
    "using Makie, Observables, ProgressMeter, VectorizedRoutines"
   ]
  },
  {
   "cell_type": "code",
   "execution_count": null,
   "metadata": {},
   "outputs": [],
   "source": [
    "Time = 13\n",
    "dt = 0.03\n",
    "xlim, Δx = 1., 2.\n",
    "vlim, Δv = 2., 4.\n",
    "\n",
    "xm0 = Array{Any}(undef, 3)\n",
    "vm0 = Array{Any}(undef, 3)\n",
    "\n",
    "xm0[1], xm0[2], xm0[3] = Matlab.meshgrid(-xlim:Δx:xlim, -xlim:Δx:xlim, -xlim:Δx:xlim)\n",
    "vm0[1], vm0[2], vm0[3] = Matlab.meshgrid(-vlim:Δv:vlim, -vlim:Δv:vlim, -vlim:Δv:vlim)\n",
    "\n",
    "for a in (xm0, vm0), i in 1:3\n",
    "    a[i] = reshape(a[i], length(a[i]))\n",
    "end\n",
    "\n",
    "nx = length(xm0[1])\n",
    "nv = length(vm0[1])\n",
    "ix, iv = Matlab.meshgrid(1:nx, 1:nv)\n",
    "ix = reshape(ix, length(ix))\n",
    "iv = reshape(iv, length(iv))\n",
    "\n",
    "ntraj = nx*nv\n",
    "trajs = Array{Any}(undef, ntraj)\n",
    "xm0 = [xm0[1]'; xm0[2]'; xm0[3]']\n",
    "vm0 = [vm0[1]'; vm0[2]'; vm0[3]']\n",
    "p = Progress(ntraj)\n",
    "\n",
    "Threads.@threads for i in 1:ntraj\n",
    "    trajs[i] = propagate_tasks(SA[xm0[:,ix[i]]...], SA[vm0[:,iv[i]]...], tasks, CM, CNs, Time, dt)\n",
    "    isdefined(Main, :Test) || next!(p)\n",
    "end"
   ]
  },
  {
   "cell_type": "code",
   "execution_count": null,
   "metadata": {
    "scrolled": true
   },
   "outputs": [],
   "source": [
    "fxx(i) = [trajs[j].xm[i][1] for j = 1:ntraj]\n",
    "fxy(i) = [trajs[j].xm[i][2] for j = 1:ntraj]\n",
    "fxz(i) = [trajs[j].xm[i][3] for j = 1:ntraj]\n",
    "iobs = Observable(1)\n",
    "\n",
    "ax_size, plot_size = 5, 800\n",
    "limits = FRect3D((-ax_size-3, -ax_size+3, -ax_size), (2*ax_size, 2*ax_size, 2*ax_size))\n",
    "scene = Scene(resolution = (plot_size, plot_size))\n",
    "Makie.scatter!(scene, lift(i -> fxx(i), iobs), lift(i -> fxy(i), iobs), lift(i -> fxz(i), iobs), markersize = ax_size/20, color = :blue, limits = limits)\n",
    "Makie.scatter!(scene, xm_goal', markersize = ax_size/20, color = :darkgreen)\n",
    "rect = Rect(Vec(-rec_widths./2), Vec(rec_widths))\n",
    "rect_mesh = mesh!(rect, color = :orange)\n",
    "q = UnitQuaternion(rotation)\n",
    "qrot = Quaternion(q.w, q.x, q.y, q.z)\n",
    "Makie.rotate!(rect_mesh[end], qrot)\n",
    "Makie.translate!(rect_mesh[end], center)\n",
    "for i = 1:ntraj\n",
    "    Makie.lines!(scene, getindex.(trajs[i].xm,1), getindex.(trajs[i].xm,2), getindex.(trajs[i].xm,3), color = :purple)\n",
    "end\n",
    "\n",
    "Makie.xlabel!(scene, \"x\")\n",
    "Makie.ylabel!(scene, \"y\")\n",
    "axis = scene[Axis]\n",
    "axis.showaxis = false\n",
    "display(scene)"
   ]
  },
  {
   "cell_type": "code",
   "execution_count": null,
   "metadata": {},
   "outputs": [],
   "source": [
    "function record_scene(scene, filename, iobs, N, framerate=60)\n",
    "    p = Progress(N)\n",
    "    record(scene, filename, 1:N) do i\n",
    "        iobs[] = i\n",
    "        rotate_cam!(scene, 0.01, 0., 0.)\n",
    "        isdefined(Main, :Test) || next!(p)\n",
    "    end\n",
    "    isdefined(Main, :Test) || display(\"text/html\", html_video(filename))\n",
    "end\n",
    "\n",
    "filename = \"R3ToR1PointDistanceAttractor_S2Damping_R1BoxAvoidance.mp4\"\n",
    "record_scene(scene, filename, iobs, length(trajs[1].xm))"
   ]
  },
  {
   "cell_type": "code",
   "execution_count": null,
   "metadata": {},
   "outputs": [],
   "source": []
  }
 ],
 "metadata": {
  "@webio": {
   "lastCommId": null,
   "lastKernelId": null
  },
  "kernelspec": {
   "display_name": "Julia 1.5.3",
   "language": "julia",
   "name": "julia-1.5"
  },
  "language_info": {
   "file_extension": ".jl",
   "mimetype": "application/julia",
   "name": "julia",
   "version": "1.5.3"
  }
 },
 "nbformat": 4,
 "nbformat_minor": 2
}
