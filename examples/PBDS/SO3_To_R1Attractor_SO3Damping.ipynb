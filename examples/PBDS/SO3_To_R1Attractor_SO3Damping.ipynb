{
 "cells": [
  {
   "cell_type": "markdown",
   "metadata": {},
   "source": [
    "# SO3 to R1 Attractor, SO3 Damping"
   ]
  },
  {
   "cell_type": "code",
   "execution_count": null,
   "metadata": {},
   "outputs": [],
   "source": [
    "using PBDS, StaticArrays, LinearAlgebra, BenchmarkTools, Rotations, Random"
   ]
  },
  {
   "cell_type": "markdown",
   "metadata": {},
   "source": [
    "## Setup"
   ]
  },
  {
   "cell_type": "markdown",
   "metadata": {},
   "source": [
    "### Point Distance Attractor"
   ]
  },
  {
   "cell_type": "code",
   "execution_count": null,
   "metadata": {},
   "outputs": [],
   "source": [
    "function PBDS.task_map_emb(::EmbRep, ::EmbRep, xme, task_map::DistanceFromPoint{SO3,R1}) where m\n",
    "    R = reshape(xme, Size(3,3))\n",
    "    R_center = reshape(task_map.position_center)\n",
    "    R_diff = R*R_center'\n",
    "    θ = acos((tr(R_diff)-1)/2)\n",
    "    d = θ != 0 ? abs(θ) : 0.\n",
    "end\n",
    "PBDS.task_map_emb(::EmbRep, ::EmbRep, xme, task_map::DistanceFromPoint{SO3,R1}) =\n",
    "    SA[norm(xme - task_map.position_center)]\n",
    "PBDS.domain_coord_rep(::DistanceFromPoint{SO3,R1}) = EmbRep()\n",
    "\n",
    "PBDS.metric_chart(xn, task::Attractor{<:DistanceFromPoint{SO3,R1}}, CN::Chart{1,R1}) = \n",
    "    default_metric(xn, task, CN)\n",
    "PBDS.potential_chart(xn, task::Attractor{<:DistanceFromPoint{SO3,R1}}, CN::Chart{1,R1}) = xn[1]^2\n",
    "PBDS.dissipative_forces_chart(xn, vn, task::Attractor{<:DistanceFromPoint{SO3,R1}}, CN::Chart{1,R1}) =  0*vn\n",
    "PBDS.weight_metric_chart(xn, vn, task::Attractor{<:DistanceFromPoint{SO3,R1}}, CN::Chart{1,R1}) = \n",
    "    default_weight_metric(xn, vn, task, CN)"
   ]
  },
  {
   "cell_type": "markdown",
   "metadata": {},
   "source": [
    "### Rotation Damping"
   ]
  },
  {
   "cell_type": "code",
   "execution_count": null,
   "metadata": {},
   "outputs": [],
   "source": [
    "PBDS.default_coord_rep(::Damping{<:Identity{SO3,SO3}}) = ChartRep()\n",
    "PBDS.metric_chart(xn, task::Damping{<:Identity{SO3,SO3}}, CN::Chart{ExpMap0,SO3}) =\n",
    "    default_metric(xn, task, CN)\n",
    "PBDS.potential_chart(xn, task::Damping{<:Identity{SO3,SO3}}, CN::Chart{<:ExpMap,SO3}) = 0.\n",
    "\n",
    "function PBDS.dissipative_forces_chart(xn, vn, task::Damping{<:Identity{SO3,SO3}}, CN::Chart{<:ExpMap,SO3})\n",
    "    xne, vne = chart_to_emb_differential(xn, vn, CN)\n",
    "    Fne = -3*vne\n",
    "    ∂xne_∂xn = chart_to_emb_jacobian(xn, CN)\n",
    "    Fn = ∂xne_∂xn'*Fne\n",
    "end\n",
    "PBDS.weight_metric_chart(xn, vn, task::Damping{<:Identity{SO3,SO3}}, CN::Chart{ExpMap0,SO3}) =\n",
    "    default_weight_metric(xn, vn, task, CN)\n",
    "PBDS.home_task_chart(task::Damping{<:Identity{SO3,SO3}}, CN::Chart{<:ExpMap,SO3}) = Chart{ExpMap0,SO3}()"
   ]
  },
  {
   "cell_type": "markdown",
   "metadata": {},
   "source": [
    "## Point Acceleration"
   ]
  },
  {
   "cell_type": "code",
   "execution_count": null,
   "metadata": {},
   "outputs": [],
   "source": [
    "# Initial state\n",
    "skew(w) = SA[0.   -w[3]  w[2]\n",
    "             w[3]  0.   -w[1]\n",
    "            -w[2]  w[1]  0.]\n",
    "\n",
    "Random.seed!(8)\n",
    "R = rand(RotMatrix{3}).mat\n",
    "ω = R*SA[0.,0.,20.]\n",
    "xme = reshape(R, Size(9))\n",
    "vme = reshape(skew(ω)*R, Size(9))\n",
    "\n",
    "C0 = Chart{PBDS.ExpMap0,SO3}()\n",
    "\n",
    "M = SO3\n",
    "tasks, CNs = TaskList(), ChartList()\n",
    "\n",
    "N = R1\n",
    "CN = Chart{1,N}()\n",
    "R_goal = RotX(0.)\n",
    "xme_goal = reshape(R_goal, Size(9))\n",
    "push!(tasks, Attractor(DistanceFromPoint{M,N}(xme_goal)))\n",
    "push!(CNs, CN)\n",
    "\n",
    "N = SO3\n",
    "CN = choose_chart_emb(xme, C0)\n",
    "push!(tasks, Damping(Identity{M,N,Float64}()))\n",
    "push!(CNs, CN)\n",
    "\n",
    "CM = CN\n",
    "robot_coord_rep = EmbRep()\n",
    "σxddot, = multiple_task_acceleration(xme, vme, tasks, CM, CNs, robot_coord_rep)"
   ]
  },
  {
   "cell_type": "markdown",
   "metadata": {},
   "source": [
    "## Single Trajectory"
   ]
  },
  {
   "cell_type": "code",
   "execution_count": null,
   "metadata": {},
   "outputs": [],
   "source": [
    "using Plots, Makie, Observables, ProgressMeter"
   ]
  },
  {
   "cell_type": "code",
   "execution_count": null,
   "metadata": {
    "scrolled": true
   },
   "outputs": [],
   "source": [
    "Time = 10\n",
    "dt = 0.05\n",
    "\n",
    "traj = propagate_tasks(xme, vme, tasks, CM, CNs, Time, dt, robot_coord_rep, log_tasks=true)\n",
    "traj.vm[end]"
   ]
  },
  {
   "cell_type": "code",
   "execution_count": null,
   "metadata": {},
   "outputs": [],
   "source": [
    "function frot(i)\n",
    "    q = UnitQuaternion(RotMatrix(traj.xm[i]))\n",
    "    qrot = Quaternion(q.x, q.y, q.z, q.w)\n",
    "end\n",
    "\n",
    "iobs = Observable(1)\n",
    "ax_size, plot_size = 2, 800\n",
    "limits = FRect3D((-ax_size, -ax_size, -ax_size), (2*ax_size, 2*ax_size, 2*ax_size))\n",
    "scene = Scene(resolution = (plot_size, plot_size))\n",
    "widths = SA[1.,2.,3.]\n",
    "rect = Rect(Vec(-widths./2), Vec(widths))\n",
    "rect_mesh = mesh!(scene, rect, color = :orange; limits)\n",
    "Makie.rotate!(rect_mesh[end], frot(1))\n",
    "\n",
    "axis = scene[Axis]\n",
    "axis.showaxis = false\n",
    "display(scene)"
   ]
  },
  {
   "cell_type": "code",
   "execution_count": null,
   "metadata": {},
   "outputs": [],
   "source": [
    "function record_scene(scene, filename, iobs, N, framerate=60)\n",
    "    p = Progress(N)\n",
    "    record(scene, filename, 1:N) do i\n",
    "        Makie.rotate!(rect_mesh[end], frot(i))\n",
    "        next!(p)\n",
    "    end\n",
    "    display(\"text/html\", html_video(filename))\n",
    "end\n",
    "\n",
    "filename = \"SO3ToSO3_Damping.mp4\"\n",
    "record_scene(scene, filename, iobs, length(traj.xm))"
   ]
  },
  {
   "cell_type": "code",
   "execution_count": null,
   "metadata": {},
   "outputs": [],
   "source": []
  }
 ],
 "metadata": {
  "@webio": {
   "lastCommId": null,
   "lastKernelId": null
  },
  "kernelspec": {
   "display_name": "Julia 1.5.3",
   "language": "julia",
   "name": "julia-1.5"
  },
  "language_info": {
   "file_extension": ".jl",
   "mimetype": "application/julia",
   "name": "julia",
   "version": "1.5.3"
  }
 },
 "nbformat": 4,
 "nbformat_minor": 2
}
